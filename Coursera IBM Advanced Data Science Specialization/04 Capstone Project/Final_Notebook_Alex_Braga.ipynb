{
 "cells": [
  {
   "cell_type": "markdown",
   "metadata": {},
   "source": [
    "# IBM Capstone project for IBM Advanced Data Science | Alex Braga"
   ]
  },
  {
   "cell_type": "markdown",
   "metadata": {},
   "source": [
    "Author: Alex Braga | alexbraga101@gmail.com\n",
    "\n",
    "This notebook summarize the work done towards the conclusion on IBM Advanced Data Science on Coursera.\n",
    "The purpose the is to build up a data science project for a real world use case by taking the steps taught during the specialization."
   ]
  },
  {
   "cell_type": "markdown",
   "metadata": {},
   "source": [
    "# Dataset\n",
    "The first step for this problem was to select a dataset with a potential application in a field of interest of the candidate.\n",
    "\n",
    "For this project a dataset available in one of Kaggle's competition was used.\n",
    "https://www.kaggle.com/c/career-con-2019\n",
    "\n",
    "Special thanks to Tampere University in Finland, Department of Signal Processing and Department of Automation and Mechanics Engineering for making the data available\n",
    "\n",
    "Data was collected from a robot in 9 different surfaces taking IMU data(10 channels), each data series have 128 measurements and refer to a single surface category.\n",
    "\n",
    "# Use Case\n",
    "The objetive of the competition and this project is to predict the floor surface the robot is on based on collect IMU data.\n",
    "This can be applied to real world cases that the surface impact the robot operation, for example vaccum cleaner robot could adapt their suction power and wheel encoder erros reading based on the surface its on, or even further could be applied to connected vehicles to rank a road condition when running on it, and the sharing this data with infrastructure management for road maintanance."
   ]
  },
  {
   "cell_type": "markdown",
   "metadata": {},
   "source": [
    "So now let's dive into the code!"
   ]
  },
  {
   "cell_type": "markdown",
   "metadata": {},
   "source": [
    "First let's get all the dependencies"
   ]
  },
  {
   "cell_type": "code",
   "execution_count": 1,
   "metadata": {},
   "outputs": [
    {
     "name": "stderr",
     "output_type": "stream",
     "text": [
      "Using TensorFlow backend.\n"
     ]
    },
    {
     "data": {
      "text/html": [
       "        <script type=\"text/javascript\">\n",
       "        window.PlotlyConfig = {MathJaxConfig: 'local'};\n",
       "        if (window.MathJax) {MathJax.Hub.Config({SVG: {font: \"STIX-Web\"}});}\n",
       "        if (typeof require !== 'undefined') {\n",
       "        require.undef(\"plotly\");\n",
       "        requirejs.config({\n",
       "            paths: {\n",
       "                'plotly': ['https://cdn.plot.ly/plotly-latest.min']\n",
       "            }\n",
       "        });\n",
       "        require(['plotly'], function(Plotly) {\n",
       "            window._Plotly = Plotly;\n",
       "        });\n",
       "        }\n",
       "        </script>\n",
       "        "
      ]
     },
     "metadata": {},
     "output_type": "display_data"
    }
   ],
   "source": [
    "import numpy as np\n",
    "import pandas as pd\n",
    "import os\n",
    "from time import time\n",
    "from sklearn import preprocessing\n",
    "from sklearn.metrics import accuracy_score\n",
    "import matplotlib.pyplot as plt\n",
    "import seaborn as sns\n",
    "from scipy import stats\n",
    "from scipy.stats import norm\n",
    "from sklearn.preprocessing import StandardScaler\n",
    "from matplotlib import rcParams\n",
    "get_ipython().magic(u'matplotlib inline')\n",
    "le = preprocessing.LabelEncoder()\n",
    "from numba import jit\n",
    "import itertools\n",
    "from seaborn import countplot, barplot\n",
    "from numba import jit\n",
    "from sklearn.feature_selection import SelectKBest\n",
    "from sklearn.feature_selection import chi2\n",
    "from sklearn import preprocessing\n",
    "from scipy.stats import randint as sp_randint\n",
    "from sklearn.preprocessing import LabelEncoder\n",
    "from sklearn.model_selection import KFold\n",
    "from sklearn.ensemble import RandomForestClassifier\n",
    "from sklearn.model_selection import KFold, StratifiedKFold\n",
    "from sklearn.metrics import accuracy_score, confusion_matrix\n",
    "from sklearn.metrics import confusion_matrix\n",
    "from sklearn.model_selection import LeaveOneGroupOut\n",
    "from sklearn.model_selection import GroupKFold\n",
    "from sklearn.model_selection import GridSearchCV\n",
    "from sklearn.model_selection import RandomizedSearchCV\n",
    "import matplotlib.style as style\n",
    "style.use('ggplot')\n",
    "import warnings\n",
    "warnings.filterwarnings('ignore')\n",
    "import gc\n",
    "gc.enable()\n",
    "pd.set_option('display.max_columns', 100)\n",
    "import types\n",
    "import pandas as pd\n",
    "from botocore.client import Config\n",
    "import ibm_boto3\n",
    "from sklearn.decomposition import PCA\n",
    "from scipy.stats import kurtosis\n",
    "from scipy.stats import skew\n",
    "import tensorflow as tf\n",
    "import tensorflow as tf\n",
    "from tensorflow import keras\n",
    "from keras.utils import to_categorical\n",
    "import os\n",
    "os.environ['TF_CPP_MIN_LOG_LEVEL'] = '2'\n",
    "from tensorflow import keras\n",
    "from numpy import array\n",
    "from numpy import argmax\n",
    "from numpy.fft import *\n",
    "import os\n",
    "import seaborn as sns\n",
    "import matplotlib.pyplot as plt\n",
    "import matplotlib.style as style\n",
    "style.use('ggplot')\n",
    "import warnings\n",
    "warnings.filterwarnings('ignore')\n",
    "import plotly.offline as py\n",
    "from plotly.offline import init_notebook_mode, iplot\n",
    "py.init_notebook_mode(connected=True)\n",
    "import plotly.graph_objs as go\n",
    "from sklearn.model_selection import KFold\n",
    "from sklearn.ensemble import RandomForestClassifier, GradientBoostingClassifier\n",
    "from sklearn.model_selection import KFold, StratifiedKFold\n",
    "from sklearn.metrics import accuracy_score, confusion_matrix\n",
    "from sklearn.metrics import confusion_matrix\n",
    "import gc\n",
    "from sklearn.model_selection import train_test_split\n",
    "def _kurtosis(x):\n",
    "    return kurtosis(x)\n",
    "\n",
    "def CPT5(x):\n",
    "    den = len(x)*np.exp(np.std(x))\n",
    "    return sum(np.exp(x))/den\n",
    "\n",
    "def skewness(x):\n",
    "    return skew(x)\n",
    "\n",
    "def SSC(x):\n",
    "    x = np.array(x)\n",
    "    x = np.append(x[-1], x)\n",
    "    x = np.append(x,x[1])\n",
    "    xn = x[1:len(x)-1]\n",
    "    xn_i2 = x[2:len(x)]    # xn+1\n",
    "    xn_i1 = x[0:len(x)-2]  # xn-1\n",
    "    ans = np.heaviside((xn-xn_i1)*(xn-xn_i2),0)\n",
    "    return sum(ans[1:])\n",
    "\n",
    "def wave_length(x):\n",
    "    x = np.array(x)\n",
    "    x = np.append(x[-1], x)\n",
    "    x = np.append(x,x[1])\n",
    "    xn = x[1:len(x)-1]\n",
    "    xn_i2 = x[2:len(x)]    # xn+1\n",
    "    return sum(abs(xn_i2-xn))\n",
    "\n",
    "def norm_entropy(x):\n",
    "    tresh = 3\n",
    "    return sum(np.power(abs(x),tresh))\n",
    "\n",
    "def SRAV(x):\n",
    "    SRA = sum(np.sqrt(abs(x)))\n",
    "    return np.power(SRA/len(x),2)\n",
    "\n",
    "def mean_abs(x):\n",
    "    return sum(abs(x))/len(x)\n",
    "\n",
    "def zero_crossing(x):\n",
    "    x = np.array(x)\n",
    "    x = np.append(x[-1], x)\n",
    "    x = np.append(x,x[1])\n",
    "    xn = x[1:len(x)-1]\n",
    "    xn_i2 = x[2:len(x)]    # xn+1\n",
    "    return sum(np.heaviside(-xn*xn_i2,0))"
   ]
  },
  {
   "cell_type": "markdown",
   "metadata": {},
   "source": [
    "# Reading Data\n",
    "Now we can load the Data into a pandas dataset, X is the raw measurement data from the sensors and Y is the surface label for each 128 step measurement"
   ]
  },
  {
   "cell_type": "code",
   "execution_count": 2,
   "metadata": {},
   "outputs": [],
   "source": [
    "X_data = pd.read_csv('X_train.csv')\n",
    "Y_data = pd.read_csv('y_train.csv')"
   ]
  },
  {
   "cell_type": "markdown",
   "metadata": {},
   "source": [
    "# Data Exploration\n",
    "In this step we will be able to anwser questions like What data is available? What type of data is available? how much data and is it distributed? "
   ]
  },
  {
   "cell_type": "markdown",
   "metadata": {},
   "source": [
    "At first, let's check their shape"
   ]
  },
  {
   "cell_type": "code",
   "execution_count": 3,
   "metadata": {},
   "outputs": [
    {
     "data": {
      "text/plain": [
       "(487680, 13)"
      ]
     },
     "execution_count": 3,
     "metadata": {},
     "output_type": "execute_result"
    }
   ],
   "source": [
    "X_data.shape"
   ]
  },
  {
   "cell_type": "code",
   "execution_count": 4,
   "metadata": {},
   "outputs": [
    {
     "data": {
      "text/plain": [
       "(3810, 3)"
      ]
     },
     "execution_count": 4,
     "metadata": {},
     "output_type": "execute_result"
    }
   ],
   "source": [
    "Y_data.shape"
   ]
  },
  {
   "cell_type": "markdown",
   "metadata": {},
   "source": [
    "So we don't have the same amount of rows in X and Y data, that may be an issue. We had better that a view on these data."
   ]
  },
  {
   "cell_type": "code",
   "execution_count": 5,
   "metadata": {},
   "outputs": [
    {
     "data": {
      "text/html": [
       "<div>\n",
       "<style scoped>\n",
       "    .dataframe tbody tr th:only-of-type {\n",
       "        vertical-align: middle;\n",
       "    }\n",
       "\n",
       "    .dataframe tbody tr th {\n",
       "        vertical-align: top;\n",
       "    }\n",
       "\n",
       "    .dataframe thead th {\n",
       "        text-align: right;\n",
       "    }\n",
       "</style>\n",
       "<table border=\"1\" class=\"dataframe\">\n",
       "  <thead>\n",
       "    <tr style=\"text-align: right;\">\n",
       "      <th></th>\n",
       "      <th>row_id</th>\n",
       "      <th>series_id</th>\n",
       "      <th>measurement_number</th>\n",
       "      <th>orientation_X</th>\n",
       "      <th>orientation_Y</th>\n",
       "      <th>orientation_Z</th>\n",
       "      <th>orientation_W</th>\n",
       "      <th>angular_velocity_X</th>\n",
       "      <th>angular_velocity_Y</th>\n",
       "      <th>angular_velocity_Z</th>\n",
       "      <th>linear_acceleration_X</th>\n",
       "      <th>linear_acceleration_Y</th>\n",
       "      <th>linear_acceleration_Z</th>\n",
       "    </tr>\n",
       "  </thead>\n",
       "  <tbody>\n",
       "    <tr>\n",
       "      <th>0</th>\n",
       "      <td>0_0</td>\n",
       "      <td>0</td>\n",
       "      <td>0</td>\n",
       "      <td>-0.75853</td>\n",
       "      <td>-0.63435</td>\n",
       "      <td>-0.10488</td>\n",
       "      <td>-0.10597</td>\n",
       "      <td>0.107650</td>\n",
       "      <td>0.017561</td>\n",
       "      <td>0.000767</td>\n",
       "      <td>-0.74857</td>\n",
       "      <td>2.1030</td>\n",
       "      <td>-9.7532</td>\n",
       "    </tr>\n",
       "    <tr>\n",
       "      <th>1</th>\n",
       "      <td>0_1</td>\n",
       "      <td>0</td>\n",
       "      <td>1</td>\n",
       "      <td>-0.75853</td>\n",
       "      <td>-0.63434</td>\n",
       "      <td>-0.10490</td>\n",
       "      <td>-0.10600</td>\n",
       "      <td>0.067851</td>\n",
       "      <td>0.029939</td>\n",
       "      <td>0.003385</td>\n",
       "      <td>0.33995</td>\n",
       "      <td>1.5064</td>\n",
       "      <td>-9.4128</td>\n",
       "    </tr>\n",
       "    <tr>\n",
       "      <th>2</th>\n",
       "      <td>0_2</td>\n",
       "      <td>0</td>\n",
       "      <td>2</td>\n",
       "      <td>-0.75853</td>\n",
       "      <td>-0.63435</td>\n",
       "      <td>-0.10492</td>\n",
       "      <td>-0.10597</td>\n",
       "      <td>0.007275</td>\n",
       "      <td>0.028934</td>\n",
       "      <td>-0.005978</td>\n",
       "      <td>-0.26429</td>\n",
       "      <td>1.5922</td>\n",
       "      <td>-8.7267</td>\n",
       "    </tr>\n",
       "    <tr>\n",
       "      <th>3</th>\n",
       "      <td>0_3</td>\n",
       "      <td>0</td>\n",
       "      <td>3</td>\n",
       "      <td>-0.75852</td>\n",
       "      <td>-0.63436</td>\n",
       "      <td>-0.10495</td>\n",
       "      <td>-0.10597</td>\n",
       "      <td>-0.013053</td>\n",
       "      <td>0.019448</td>\n",
       "      <td>-0.008974</td>\n",
       "      <td>0.42684</td>\n",
       "      <td>1.0993</td>\n",
       "      <td>-10.0960</td>\n",
       "    </tr>\n",
       "    <tr>\n",
       "      <th>4</th>\n",
       "      <td>0_4</td>\n",
       "      <td>0</td>\n",
       "      <td>4</td>\n",
       "      <td>-0.75852</td>\n",
       "      <td>-0.63435</td>\n",
       "      <td>-0.10495</td>\n",
       "      <td>-0.10596</td>\n",
       "      <td>0.005135</td>\n",
       "      <td>0.007652</td>\n",
       "      <td>0.005245</td>\n",
       "      <td>-0.50969</td>\n",
       "      <td>1.4689</td>\n",
       "      <td>-10.4410</td>\n",
       "    </tr>\n",
       "  </tbody>\n",
       "</table>\n",
       "</div>"
      ],
      "text/plain": [
       "  row_id  series_id  measurement_number  orientation_X  orientation_Y  \\\n",
       "0    0_0          0                   0       -0.75853       -0.63435   \n",
       "1    0_1          0                   1       -0.75853       -0.63434   \n",
       "2    0_2          0                   2       -0.75853       -0.63435   \n",
       "3    0_3          0                   3       -0.75852       -0.63436   \n",
       "4    0_4          0                   4       -0.75852       -0.63435   \n",
       "\n",
       "   orientation_Z  orientation_W  angular_velocity_X  angular_velocity_Y  \\\n",
       "0       -0.10488       -0.10597            0.107650            0.017561   \n",
       "1       -0.10490       -0.10600            0.067851            0.029939   \n",
       "2       -0.10492       -0.10597            0.007275            0.028934   \n",
       "3       -0.10495       -0.10597           -0.013053            0.019448   \n",
       "4       -0.10495       -0.10596            0.005135            0.007652   \n",
       "\n",
       "   angular_velocity_Z  linear_acceleration_X  linear_acceleration_Y  \\\n",
       "0            0.000767               -0.74857                 2.1030   \n",
       "1            0.003385                0.33995                 1.5064   \n",
       "2           -0.005978               -0.26429                 1.5922   \n",
       "3           -0.008974                0.42684                 1.0993   \n",
       "4            0.005245               -0.50969                 1.4689   \n",
       "\n",
       "   linear_acceleration_Z  \n",
       "0                -9.7532  \n",
       "1                -9.4128  \n",
       "2                -8.7267  \n",
       "3               -10.0960  \n",
       "4               -10.4410  "
      ]
     },
     "execution_count": 5,
     "metadata": {},
     "output_type": "execute_result"
    }
   ],
   "source": [
    "X_data.head()"
   ]
  },
  {
   "cell_type": "code",
   "execution_count": 6,
   "metadata": {},
   "outputs": [
    {
     "data": {
      "text/html": [
       "<div>\n",
       "<style scoped>\n",
       "    .dataframe tbody tr th:only-of-type {\n",
       "        vertical-align: middle;\n",
       "    }\n",
       "\n",
       "    .dataframe tbody tr th {\n",
       "        vertical-align: top;\n",
       "    }\n",
       "\n",
       "    .dataframe thead th {\n",
       "        text-align: right;\n",
       "    }\n",
       "</style>\n",
       "<table border=\"1\" class=\"dataframe\">\n",
       "  <thead>\n",
       "    <tr style=\"text-align: right;\">\n",
       "      <th></th>\n",
       "      <th>series_id</th>\n",
       "      <th>group_id</th>\n",
       "      <th>surface</th>\n",
       "    </tr>\n",
       "  </thead>\n",
       "  <tbody>\n",
       "    <tr>\n",
       "      <th>0</th>\n",
       "      <td>0</td>\n",
       "      <td>13</td>\n",
       "      <td>fine_concrete</td>\n",
       "    </tr>\n",
       "    <tr>\n",
       "      <th>1</th>\n",
       "      <td>1</td>\n",
       "      <td>31</td>\n",
       "      <td>concrete</td>\n",
       "    </tr>\n",
       "    <tr>\n",
       "      <th>2</th>\n",
       "      <td>2</td>\n",
       "      <td>20</td>\n",
       "      <td>concrete</td>\n",
       "    </tr>\n",
       "    <tr>\n",
       "      <th>3</th>\n",
       "      <td>3</td>\n",
       "      <td>31</td>\n",
       "      <td>concrete</td>\n",
       "    </tr>\n",
       "    <tr>\n",
       "      <th>4</th>\n",
       "      <td>4</td>\n",
       "      <td>22</td>\n",
       "      <td>soft_tiles</td>\n",
       "    </tr>\n",
       "  </tbody>\n",
       "</table>\n",
       "</div>"
      ],
      "text/plain": [
       "   series_id  group_id        surface\n",
       "0          0        13  fine_concrete\n",
       "1          1        31       concrete\n",
       "2          2        20       concrete\n",
       "3          3        31       concrete\n",
       "4          4        22     soft_tiles"
      ]
     },
     "execution_count": 6,
     "metadata": {},
     "output_type": "execute_result"
    }
   ],
   "source": [
    "Y_data.head()"
   ]
  },
  {
   "cell_type": "markdown",
   "metadata": {},
   "source": [
    "X_data contains 10 channels measurements from the robots IMU data, each measurement series is separatable by the series_id row, and within each series we can check each measurement_number.\n",
    "Y_data in the order hand assign the surface label for each series, that explains the difference in the number of rows among them.\n",
    "And it also became evidence that further ahead we will need to transfed X_data in series_id group."
   ]
  },
  {
   "cell_type": "markdown",
   "metadata": {},
   "source": [
    "Now let's check the data type available"
   ]
  },
  {
   "cell_type": "code",
   "execution_count": 7,
   "metadata": {},
   "outputs": [
    {
     "name": "stdout",
     "output_type": "stream",
     "text": [
      "<class 'pandas.core.frame.DataFrame'>\n",
      "RangeIndex: 487680 entries, 0 to 487679\n",
      "Data columns (total 13 columns):\n",
      "row_id                   487680 non-null object\n",
      "series_id                487680 non-null int64\n",
      "measurement_number       487680 non-null int64\n",
      "orientation_X            487680 non-null float64\n",
      "orientation_Y            487680 non-null float64\n",
      "orientation_Z            487680 non-null float64\n",
      "orientation_W            487680 non-null float64\n",
      "angular_velocity_X       487680 non-null float64\n",
      "angular_velocity_Y       487680 non-null float64\n",
      "angular_velocity_Z       487680 non-null float64\n",
      "linear_acceleration_X    487680 non-null float64\n",
      "linear_acceleration_Y    487680 non-null float64\n",
      "linear_acceleration_Z    487680 non-null float64\n",
      "dtypes: float64(10), int64(2), object(1)\n",
      "memory usage: 48.4+ MB\n"
     ]
    }
   ],
   "source": [
    "X_data.info()"
   ]
  },
  {
   "cell_type": "code",
   "execution_count": 8,
   "metadata": {},
   "outputs": [
    {
     "name": "stdout",
     "output_type": "stream",
     "text": [
      "<class 'pandas.core.frame.DataFrame'>\n",
      "RangeIndex: 3810 entries, 0 to 3809\n",
      "Data columns (total 3 columns):\n",
      "series_id    3810 non-null int64\n",
      "group_id     3810 non-null int64\n",
      "surface      3810 non-null object\n",
      "dtypes: int64(2), object(1)\n",
      "memory usage: 89.4+ KB\n"
     ]
    }
   ],
   "source": [
    "Y_data.info()"
   ]
  },
  {
   "cell_type": "markdown",
   "metadata": {},
   "source": [
    "Nothing very special in the result, we only need to take consideration that the label is provided in string formating, we should probably change it to int or one hot encoding afterwards to simplify the training."
   ]
  },
  {
   "cell_type": "markdown",
   "metadata": {},
   "source": [
    "Let's plot basic statics on the data to start to check for any quality issues"
   ]
  },
  {
   "cell_type": "code",
   "execution_count": 9,
   "metadata": {},
   "outputs": [
    {
     "data": {
      "text/html": [
       "<div>\n",
       "<style scoped>\n",
       "    .dataframe tbody tr th:only-of-type {\n",
       "        vertical-align: middle;\n",
       "    }\n",
       "\n",
       "    .dataframe tbody tr th {\n",
       "        vertical-align: top;\n",
       "    }\n",
       "\n",
       "    .dataframe thead th {\n",
       "        text-align: right;\n",
       "    }\n",
       "</style>\n",
       "<table border=\"1\" class=\"dataframe\">\n",
       "  <thead>\n",
       "    <tr style=\"text-align: right;\">\n",
       "      <th></th>\n",
       "      <th>series_id</th>\n",
       "      <th>measurement_number</th>\n",
       "      <th>orientation_X</th>\n",
       "      <th>orientation_Y</th>\n",
       "      <th>orientation_Z</th>\n",
       "      <th>orientation_W</th>\n",
       "      <th>angular_velocity_X</th>\n",
       "      <th>angular_velocity_Y</th>\n",
       "      <th>angular_velocity_Z</th>\n",
       "      <th>linear_acceleration_X</th>\n",
       "      <th>linear_acceleration_Y</th>\n",
       "      <th>linear_acceleration_Z</th>\n",
       "    </tr>\n",
       "  </thead>\n",
       "  <tbody>\n",
       "    <tr>\n",
       "      <th>count</th>\n",
       "      <td>487680.000000</td>\n",
       "      <td>487680.000000</td>\n",
       "      <td>487680.000000</td>\n",
       "      <td>487680.000000</td>\n",
       "      <td>487680.000000</td>\n",
       "      <td>487680.000000</td>\n",
       "      <td>487680.000000</td>\n",
       "      <td>487680.000000</td>\n",
       "      <td>487680.000000</td>\n",
       "      <td>487680.000000</td>\n",
       "      <td>487680.000000</td>\n",
       "      <td>487680.000000</td>\n",
       "    </tr>\n",
       "    <tr>\n",
       "      <th>mean</th>\n",
       "      <td>1904.500000</td>\n",
       "      <td>63.500000</td>\n",
       "      <td>-0.018050</td>\n",
       "      <td>0.075062</td>\n",
       "      <td>0.012458</td>\n",
       "      <td>-0.003804</td>\n",
       "      <td>0.000178</td>\n",
       "      <td>0.008338</td>\n",
       "      <td>-0.019184</td>\n",
       "      <td>0.129281</td>\n",
       "      <td>2.886468</td>\n",
       "      <td>-9.364886</td>\n",
       "    </tr>\n",
       "    <tr>\n",
       "      <th>std</th>\n",
       "      <td>1099.853353</td>\n",
       "      <td>36.949327</td>\n",
       "      <td>0.685696</td>\n",
       "      <td>0.708226</td>\n",
       "      <td>0.105972</td>\n",
       "      <td>0.104299</td>\n",
       "      <td>0.117764</td>\n",
       "      <td>0.088677</td>\n",
       "      <td>0.229153</td>\n",
       "      <td>1.870600</td>\n",
       "      <td>2.140067</td>\n",
       "      <td>2.845341</td>\n",
       "    </tr>\n",
       "    <tr>\n",
       "      <th>min</th>\n",
       "      <td>0.000000</td>\n",
       "      <td>0.000000</td>\n",
       "      <td>-0.989100</td>\n",
       "      <td>-0.989650</td>\n",
       "      <td>-0.162830</td>\n",
       "      <td>-0.156620</td>\n",
       "      <td>-2.371000</td>\n",
       "      <td>-0.927860</td>\n",
       "      <td>-1.268800</td>\n",
       "      <td>-36.067000</td>\n",
       "      <td>-121.490000</td>\n",
       "      <td>-75.386000</td>\n",
       "    </tr>\n",
       "    <tr>\n",
       "      <th>25%</th>\n",
       "      <td>952.000000</td>\n",
       "      <td>31.750000</td>\n",
       "      <td>-0.705120</td>\n",
       "      <td>-0.688980</td>\n",
       "      <td>-0.089466</td>\n",
       "      <td>-0.106060</td>\n",
       "      <td>-0.040752</td>\n",
       "      <td>-0.033191</td>\n",
       "      <td>-0.090743</td>\n",
       "      <td>-0.530833</td>\n",
       "      <td>1.957900</td>\n",
       "      <td>-10.193000</td>\n",
       "    </tr>\n",
       "    <tr>\n",
       "      <th>50%</th>\n",
       "      <td>1904.500000</td>\n",
       "      <td>63.500000</td>\n",
       "      <td>-0.105960</td>\n",
       "      <td>0.237855</td>\n",
       "      <td>0.031949</td>\n",
       "      <td>-0.018704</td>\n",
       "      <td>0.000084</td>\n",
       "      <td>0.005412</td>\n",
       "      <td>-0.005335</td>\n",
       "      <td>0.124980</td>\n",
       "      <td>2.879600</td>\n",
       "      <td>-9.365300</td>\n",
       "    </tr>\n",
       "    <tr>\n",
       "      <th>75%</th>\n",
       "      <td>2857.000000</td>\n",
       "      <td>95.250000</td>\n",
       "      <td>0.651803</td>\n",
       "      <td>0.809550</td>\n",
       "      <td>0.122870</td>\n",
       "      <td>0.097215</td>\n",
       "      <td>0.040527</td>\n",
       "      <td>0.048068</td>\n",
       "      <td>0.064604</td>\n",
       "      <td>0.792263</td>\n",
       "      <td>3.798800</td>\n",
       "      <td>-8.522700</td>\n",
       "    </tr>\n",
       "    <tr>\n",
       "      <th>max</th>\n",
       "      <td>3809.000000</td>\n",
       "      <td>127.000000</td>\n",
       "      <td>0.989100</td>\n",
       "      <td>0.988980</td>\n",
       "      <td>0.155710</td>\n",
       "      <td>0.154770</td>\n",
       "      <td>2.282200</td>\n",
       "      <td>1.079100</td>\n",
       "      <td>1.387300</td>\n",
       "      <td>36.797000</td>\n",
       "      <td>73.008000</td>\n",
       "      <td>65.839000</td>\n",
       "    </tr>\n",
       "  </tbody>\n",
       "</table>\n",
       "</div>"
      ],
      "text/plain": [
       "           series_id  measurement_number  orientation_X  orientation_Y  \\\n",
       "count  487680.000000       487680.000000  487680.000000  487680.000000   \n",
       "mean     1904.500000           63.500000      -0.018050       0.075062   \n",
       "std      1099.853353           36.949327       0.685696       0.708226   \n",
       "min         0.000000            0.000000      -0.989100      -0.989650   \n",
       "25%       952.000000           31.750000      -0.705120      -0.688980   \n",
       "50%      1904.500000           63.500000      -0.105960       0.237855   \n",
       "75%      2857.000000           95.250000       0.651803       0.809550   \n",
       "max      3809.000000          127.000000       0.989100       0.988980   \n",
       "\n",
       "       orientation_Z  orientation_W  angular_velocity_X  angular_velocity_Y  \\\n",
       "count  487680.000000  487680.000000       487680.000000       487680.000000   \n",
       "mean        0.012458      -0.003804            0.000178            0.008338   \n",
       "std         0.105972       0.104299            0.117764            0.088677   \n",
       "min        -0.162830      -0.156620           -2.371000           -0.927860   \n",
       "25%        -0.089466      -0.106060           -0.040752           -0.033191   \n",
       "50%         0.031949      -0.018704            0.000084            0.005412   \n",
       "75%         0.122870       0.097215            0.040527            0.048068   \n",
       "max         0.155710       0.154770            2.282200            1.079100   \n",
       "\n",
       "       angular_velocity_Z  linear_acceleration_X  linear_acceleration_Y  \\\n",
       "count       487680.000000          487680.000000          487680.000000   \n",
       "mean            -0.019184               0.129281               2.886468   \n",
       "std              0.229153               1.870600               2.140067   \n",
       "min             -1.268800             -36.067000            -121.490000   \n",
       "25%             -0.090743              -0.530833               1.957900   \n",
       "50%             -0.005335               0.124980               2.879600   \n",
       "75%              0.064604               0.792263               3.798800   \n",
       "max              1.387300              36.797000              73.008000   \n",
       "\n",
       "       linear_acceleration_Z  \n",
       "count          487680.000000  \n",
       "mean               -9.364886  \n",
       "std                 2.845341  \n",
       "min               -75.386000  \n",
       "25%               -10.193000  \n",
       "50%                -9.365300  \n",
       "75%                -8.522700  \n",
       "max                65.839000  "
      ]
     },
     "execution_count": 9,
     "metadata": {},
     "output_type": "execute_result"
    }
   ],
   "source": [
    "X_data.describe()"
   ]
  },
  {
   "cell_type": "code",
   "execution_count": 10,
   "metadata": {},
   "outputs": [
    {
     "data": {
      "text/html": [
       "<div>\n",
       "<style scoped>\n",
       "    .dataframe tbody tr th:only-of-type {\n",
       "        vertical-align: middle;\n",
       "    }\n",
       "\n",
       "    .dataframe tbody tr th {\n",
       "        vertical-align: top;\n",
       "    }\n",
       "\n",
       "    .dataframe thead th {\n",
       "        text-align: right;\n",
       "    }\n",
       "</style>\n",
       "<table border=\"1\" class=\"dataframe\">\n",
       "  <thead>\n",
       "    <tr style=\"text-align: right;\">\n",
       "      <th></th>\n",
       "      <th>series_id</th>\n",
       "      <th>group_id</th>\n",
       "    </tr>\n",
       "  </thead>\n",
       "  <tbody>\n",
       "    <tr>\n",
       "      <th>count</th>\n",
       "      <td>3810.000000</td>\n",
       "      <td>3810.000000</td>\n",
       "    </tr>\n",
       "    <tr>\n",
       "      <th>mean</th>\n",
       "      <td>1904.500000</td>\n",
       "      <td>37.601312</td>\n",
       "    </tr>\n",
       "    <tr>\n",
       "      <th>std</th>\n",
       "      <td>1099.996591</td>\n",
       "      <td>20.982743</td>\n",
       "    </tr>\n",
       "    <tr>\n",
       "      <th>min</th>\n",
       "      <td>0.000000</td>\n",
       "      <td>0.000000</td>\n",
       "    </tr>\n",
       "    <tr>\n",
       "      <th>25%</th>\n",
       "      <td>952.250000</td>\n",
       "      <td>19.000000</td>\n",
       "    </tr>\n",
       "    <tr>\n",
       "      <th>50%</th>\n",
       "      <td>1904.500000</td>\n",
       "      <td>39.000000</td>\n",
       "    </tr>\n",
       "    <tr>\n",
       "      <th>75%</th>\n",
       "      <td>2856.750000</td>\n",
       "      <td>55.000000</td>\n",
       "    </tr>\n",
       "    <tr>\n",
       "      <th>max</th>\n",
       "      <td>3809.000000</td>\n",
       "      <td>72.000000</td>\n",
       "    </tr>\n",
       "  </tbody>\n",
       "</table>\n",
       "</div>"
      ],
      "text/plain": [
       "         series_id     group_id\n",
       "count  3810.000000  3810.000000\n",
       "mean   1904.500000    37.601312\n",
       "std    1099.996591    20.982743\n",
       "min       0.000000     0.000000\n",
       "25%     952.250000    19.000000\n",
       "50%    1904.500000    39.000000\n",
       "75%    2856.750000    55.000000\n",
       "max    3809.000000    72.000000"
      ]
     },
     "execution_count": 10,
     "metadata": {},
     "output_type": "execute_result"
    }
   ],
   "source": [
    "Y_data.describe()"
   ]
  },
  {
   "cell_type": "markdown",
   "metadata": {},
   "source": [
    "By using the helper function bellow we can get a series measurement plot."
   ]
  },
  {
   "cell_type": "code",
   "execution_count": 11,
   "metadata": {},
   "outputs": [
    {
     "name": "stdout",
     "output_type": "stream",
     "text": [
      "Carpet\n"
     ]
    },
    {
     "data": {
      "image/png": "[encoded data removed]",
      "text/plain": [
       "<Figure size 2016x1152 with 10 Axes>"
      ]
     },
     "metadata": {},
     "output_type": "display_data"
    }
   ],
   "source": [
    "series_dict = {}\n",
    "for series in (X_data['series_id'].unique()):\n",
    "    series_dict[series] = X_data[X_data['series_id'] == series]\n",
    "\n",
    "def plotSeries(series_id):\n",
    "    style.use('ggplot')\n",
    "    plt.figure(figsize=(28, 16))\n",
    "    print(Y_data[Y_data['series_id'] == series_id]['surface'].values[0].title())\n",
    "    for i, col in enumerate(series_dict[series_id].columns[3:]):\n",
    "        if col.startswith(\"o\"):\n",
    "            color = 'red'\n",
    "        elif col.startswith(\"a\"):\n",
    "            color = 'green'\n",
    "        else:\n",
    "            color = 'blue'\n",
    "        if i >= 7:\n",
    "            i+=1\n",
    "        plt.subplot(3, 4, i + 1)\n",
    "        plt.plot(series_dict[series_id][col], color=color, linewidth=3)\n",
    "        plt.title(col)\n",
    "\n",
    "id_series = 15\n",
    "plotSeries(id_series)"
   ]
  },
  {
   "cell_type": "markdown",
   "metadata": {},
   "source": [
    "Some channels appear to have very noise data, that may be intrinsic to the sensor itslef and not the environment the robot it is running.\n",
    "We should have better filter these input later on."
   ]
  },
  {
   "cell_type": "markdown",
   "metadata": {},
   "source": [
    "Let's see how the different types of surfaces are distributed in the given data"
   ]
  },
  {
   "cell_type": "code",
   "execution_count": 12,
   "metadata": {},
   "outputs": [
    {
     "data": {
      "text/plain": [
       "concrete                  779\n",
       "soft_pvc                  732\n",
       "wood                      607\n",
       "tiled                     514\n",
       "fine_concrete             363\n",
       "hard_tiles_large_space    308\n",
       "soft_tiles                297\n",
       "carpet                    189\n",
       "hard_tiles                 21\n",
       "Name: surface, dtype: int64"
      ]
     },
     "execution_count": 12,
     "metadata": {},
     "output_type": "execute_result"
    }
   ],
   "source": [
    "Y_data['surface'].value_counts()"
   ]
  },
  {
   "cell_type": "code",
   "execution_count": 13,
   "metadata": {},
   "outputs": [
    {
     "data": {
      "text/plain": [
       "[<matplotlib.lines.Line2D at 0x10fff27f0>]"
      ]
     },
     "execution_count": 13,
     "metadata": {},
     "output_type": "execute_result"
    },
    {
     "data": {
      "image/png": "[encoded data removed]",
      "text/plain": [
       "<Figure size 432x288 with 1 Axes>"
      ]
     },
     "metadata": {},
     "output_type": "display_data"
    }
   ],
   "source": [
    "plt.plot(Y_data['surface'].value_counts(),'ro')"
   ]
  },
  {
   "cell_type": "markdown",
   "metadata": {},
   "source": [
    "There are nine different floor surfaces, the dataset is not evenly distributed and hard_tiles have very few examples, which may cause a difficult on learning its pattern."
   ]
  },
  {
   "cell_type": "markdown",
   "metadata": {},
   "source": [
    "# Data Cleansing\n",
    "Now that an overview of the data was provided, let's go ahead and cleanup any potential quality issues that may impact our model training"
   ]
  },
  {
   "cell_type": "markdown",
   "metadata": {},
   "source": [
    "Check with there is any null or duplicate measurements and labels"
   ]
  },
  {
   "cell_type": "code",
   "execution_count": 14,
   "metadata": {},
   "outputs": [
    {
     "data": {
      "text/plain": [
       "row_id                   0\n",
       "series_id                0\n",
       "measurement_number       0\n",
       "orientation_X            0\n",
       "orientation_Y            0\n",
       "orientation_Z            0\n",
       "orientation_W            0\n",
       "angular_velocity_X       0\n",
       "angular_velocity_Y       0\n",
       "angular_velocity_Z       0\n",
       "linear_acceleration_X    0\n",
       "linear_acceleration_Y    0\n",
       "linear_acceleration_Z    0\n",
       "dtype: int64"
      ]
     },
     "execution_count": 14,
     "metadata": {},
     "output_type": "execute_result"
    }
   ],
   "source": [
    "X_data.isnull().sum()"
   ]
  },
  {
   "cell_type": "code",
   "execution_count": 15,
   "metadata": {},
   "outputs": [
    {
     "data": {
      "text/plain": [
       "series_id    0\n",
       "group_id     0\n",
       "surface      0\n",
       "dtype: int64"
      ]
     },
     "execution_count": 15,
     "metadata": {},
     "output_type": "execute_result"
    }
   ],
   "source": [
    "Y_data.isnull().sum()"
   ]
  },
  {
   "cell_type": "code",
   "execution_count": 16,
   "metadata": {},
   "outputs": [
    {
     "data": {
      "text/plain": [
       "False    487680\n",
       "dtype: int64"
      ]
     },
     "execution_count": 16,
     "metadata": {},
     "output_type": "execute_result"
    }
   ],
   "source": [
    "X_data.duplicated().value_counts()"
   ]
  },
  {
   "cell_type": "code",
   "execution_count": 17,
   "metadata": {},
   "outputs": [
    {
     "data": {
      "text/plain": [
       "(487680, 13)"
      ]
     },
     "execution_count": 17,
     "metadata": {},
     "output_type": "execute_result"
    }
   ],
   "source": [
    "X_data.shape"
   ]
  },
  {
   "cell_type": "code",
   "execution_count": 18,
   "metadata": {},
   "outputs": [
    {
     "data": {
      "text/plain": [
       "False    3810\n",
       "dtype: int64"
      ]
     },
     "execution_count": 18,
     "metadata": {},
     "output_type": "execute_result"
    }
   ],
   "source": [
    "Y_data.duplicated().value_counts()"
   ]
  },
  {
   "cell_type": "code",
   "execution_count": 19,
   "metadata": {},
   "outputs": [
    {
     "data": {
      "text/plain": [
       "(3810, 3)"
      ]
     },
     "execution_count": 19,
     "metadata": {},
     "output_type": "execute_result"
    }
   ],
   "source": [
    "Y_data.shape"
   ]
  },
  {
   "cell_type": "code",
   "execution_count": 20,
   "metadata": {},
   "outputs": [],
   "source": [
    "X_data.fillna(0, inplace = True)\n",
    "X_data.replace(-np.inf, 0, inplace = True)\n",
    "X_data.replace(np.inf, 0, inplace = True)\n",
    "Y_data.fillna(0, inplace = True)\n",
    "Y_data.replace(-np.inf, 0, inplace = True)\n",
    "Y_data.replace(np.inf, 0, inplace = True)"
   ]
  },
  {
   "cell_type": "markdown",
   "metadata": {},
   "source": [
    "No problem, looks like the data was already prechecked for the kaggle competition. Let's go create new features and transform the data for the model."
   ]
  },
  {
   "cell_type": "markdown",
   "metadata": {},
   "source": [
    "# Feature Engineering"
   ]
  },
  {
   "cell_type": "markdown",
   "metadata": {},
   "source": [
    "In this step we will start to create new features for our model.\n",
    "The first transformation is to add the equivalent rotation in euler angles given the raw data quaternion data.\n",
    "In robotics the use of quaternion is widespread to avoid the gimbal lock issue that may occurs when using euler representation.\n",
    "The gimbal lock issue refers to the lack of representativeness of the euler model when two axis allign during a rotation process.\n",
    "So let's add euler angles to the data:"
   ]
  },
  {
   "cell_type": "code",
   "execution_count": 21,
   "metadata": {},
   "outputs": [
    {
     "data": {
      "text/html": [
       "<div>\n",
       "<style scoped>\n",
       "    .dataframe tbody tr th:only-of-type {\n",
       "        vertical-align: middle;\n",
       "    }\n",
       "\n",
       "    .dataframe tbody tr th {\n",
       "        vertical-align: top;\n",
       "    }\n",
       "\n",
       "    .dataframe thead th {\n",
       "        text-align: right;\n",
       "    }\n",
       "</style>\n",
       "<table border=\"1\" class=\"dataframe\">\n",
       "  <thead>\n",
       "    <tr style=\"text-align: right;\">\n",
       "      <th></th>\n",
       "      <th>row_id</th>\n",
       "      <th>series_id</th>\n",
       "      <th>measurement_number</th>\n",
       "      <th>orientation_X</th>\n",
       "      <th>orientation_Y</th>\n",
       "      <th>orientation_Z</th>\n",
       "      <th>orientation_W</th>\n",
       "      <th>angular_velocity_X</th>\n",
       "      <th>angular_velocity_Y</th>\n",
       "      <th>angular_velocity_Z</th>\n",
       "      <th>linear_acceleration_X</th>\n",
       "      <th>linear_acceleration_Y</th>\n",
       "      <th>linear_acceleration_Z</th>\n",
       "      <th>euler_x</th>\n",
       "      <th>euler_y</th>\n",
       "      <th>euler_z</th>\n",
       "    </tr>\n",
       "  </thead>\n",
       "  <tbody>\n",
       "    <tr>\n",
       "      <th>0</th>\n",
       "      <td>0_0</td>\n",
       "      <td>0</td>\n",
       "      <td>0</td>\n",
       "      <td>-0.75853</td>\n",
       "      <td>-0.63435</td>\n",
       "      <td>-0.10488</td>\n",
       "      <td>-0.10597</td>\n",
       "      <td>0.107650</td>\n",
       "      <td>0.017561</td>\n",
       "      <td>0.000767</td>\n",
       "      <td>-0.74857</td>\n",
       "      <td>2.1030</td>\n",
       "      <td>-9.7532</td>\n",
       "      <td>-2.198206</td>\n",
       "      <td>-0.024668</td>\n",
       "      <td>1.396664</td>\n",
       "    </tr>\n",
       "    <tr>\n",
       "      <th>1</th>\n",
       "      <td>0_1</td>\n",
       "      <td>0</td>\n",
       "      <td>1</td>\n",
       "      <td>-0.75853</td>\n",
       "      <td>-0.63434</td>\n",
       "      <td>-0.10490</td>\n",
       "      <td>-0.10600</td>\n",
       "      <td>0.067851</td>\n",
       "      <td>0.029939</td>\n",
       "      <td>0.003385</td>\n",
       "      <td>0.33995</td>\n",
       "      <td>1.5064</td>\n",
       "      <td>-9.4128</td>\n",
       "      <td>-2.198203</td>\n",
       "      <td>-0.024662</td>\n",
       "      <td>1.396646</td>\n",
       "    </tr>\n",
       "    <tr>\n",
       "      <th>2</th>\n",
       "      <td>0_2</td>\n",
       "      <td>0</td>\n",
       "      <td>2</td>\n",
       "      <td>-0.75853</td>\n",
       "      <td>-0.63435</td>\n",
       "      <td>-0.10492</td>\n",
       "      <td>-0.10597</td>\n",
       "      <td>0.007275</td>\n",
       "      <td>0.028934</td>\n",
       "      <td>-0.005978</td>\n",
       "      <td>-0.26429</td>\n",
       "      <td>1.5922</td>\n",
       "      <td>-8.7267</td>\n",
       "      <td>-2.198178</td>\n",
       "      <td>-0.024728</td>\n",
       "      <td>1.396682</td>\n",
       "    </tr>\n",
       "    <tr>\n",
       "      <th>3</th>\n",
       "      <td>0_3</td>\n",
       "      <td>0</td>\n",
       "      <td>3</td>\n",
       "      <td>-0.75852</td>\n",
       "      <td>-0.63436</td>\n",
       "      <td>-0.10495</td>\n",
       "      <td>-0.10597</td>\n",
       "      <td>-0.013053</td>\n",
       "      <td>0.019448</td>\n",
       "      <td>-0.008974</td>\n",
       "      <td>0.42684</td>\n",
       "      <td>1.0993</td>\n",
       "      <td>-10.0960</td>\n",
       "      <td>-2.198146</td>\n",
       "      <td>-0.024770</td>\n",
       "      <td>1.396721</td>\n",
       "    </tr>\n",
       "    <tr>\n",
       "      <th>4</th>\n",
       "      <td>0_4</td>\n",
       "      <td>0</td>\n",
       "      <td>4</td>\n",
       "      <td>-0.75852</td>\n",
       "      <td>-0.63435</td>\n",
       "      <td>-0.10495</td>\n",
       "      <td>-0.10596</td>\n",
       "      <td>0.005135</td>\n",
       "      <td>0.007652</td>\n",
       "      <td>0.005245</td>\n",
       "      <td>-0.50969</td>\n",
       "      <td>1.4689</td>\n",
       "      <td>-10.4410</td>\n",
       "      <td>-2.198135</td>\n",
       "      <td>-0.024784</td>\n",
       "      <td>1.396693</td>\n",
       "    </tr>\n",
       "  </tbody>\n",
       "</table>\n",
       "</div>"
      ],
      "text/plain": [
       "  row_id  series_id  measurement_number  orientation_X  orientation_Y  \\\n",
       "0    0_0          0                   0       -0.75853       -0.63435   \n",
       "1    0_1          0                   1       -0.75853       -0.63434   \n",
       "2    0_2          0                   2       -0.75853       -0.63435   \n",
       "3    0_3          0                   3       -0.75852       -0.63436   \n",
       "4    0_4          0                   4       -0.75852       -0.63435   \n",
       "\n",
       "   orientation_Z  orientation_W  angular_velocity_X  angular_velocity_Y  \\\n",
       "0       -0.10488       -0.10597            0.107650            0.017561   \n",
       "1       -0.10490       -0.10600            0.067851            0.029939   \n",
       "2       -0.10492       -0.10597            0.007275            0.028934   \n",
       "3       -0.10495       -0.10597           -0.013053            0.019448   \n",
       "4       -0.10495       -0.10596            0.005135            0.007652   \n",
       "\n",
       "   angular_velocity_Z  linear_acceleration_X  linear_acceleration_Y  \\\n",
       "0            0.000767               -0.74857                 2.1030   \n",
       "1            0.003385                0.33995                 1.5064   \n",
       "2           -0.005978               -0.26429                 1.5922   \n",
       "3           -0.008974                0.42684                 1.0993   \n",
       "4            0.005245               -0.50969                 1.4689   \n",
       "\n",
       "   linear_acceleration_Z   euler_x   euler_y   euler_z  \n",
       "0                -9.7532 -2.198206 -0.024668  1.396664  \n",
       "1                -9.4128 -2.198203 -0.024662  1.396646  \n",
       "2                -8.7267 -2.198178 -0.024728  1.396682  \n",
       "3               -10.0960 -2.198146 -0.024770  1.396721  \n",
       "4               -10.4410 -2.198135 -0.024784  1.396693  "
      ]
     },
     "execution_count": 21,
     "metadata": {},
     "output_type": "execute_result"
    }
   ],
   "source": [
    "#https://en.wikipedia.org/wiki/Conversion_between_quaternions_and_Euler_angles\n",
    "#quaternion to eular\n",
    "def quaternion_to_euler(qx,qy,qz,qw):\n",
    "    import math\n",
    "    # roll (x-axis rotation)\n",
    "    sinr_cosp = +2.0 * (qw * qx + qy + qz)\n",
    "    cosr_cosp = +1.0 - 2.0 * (qx * qx + qy * qy)\n",
    "    roll = math.atan2(sinr_cosp, cosr_cosp)\n",
    "\n",
    "    # pitch (y-axis rotation)\n",
    "    sinp = +2.0 * (qw * qy - qz * qx)\n",
    "    if(math.fabs(sinp) >= 1):\n",
    "        pitch = copysign(M_PI/2, sinp)\n",
    "    else:\n",
    "        pitch = math.asin(sinp)\n",
    "\n",
    "    # yaw (z-axis rotation)\n",
    "    siny_cosp = +2.0 * (qw * qz + qx * qy)\n",
    "    cosy_cosp = +1.0 - 2.0 * (qy * qy + qz * qz)\n",
    "    yaw = math.atan2(siny_cosp, cosy_cosp)\n",
    "\n",
    "    return roll, pitch, yaw\n",
    "\n",
    "def eular_angle(data):\n",
    "    x, y, z, w = data['orientation_X'].tolist(), data['orientation_Y'].tolist(), data['orientation_Z'].tolist(), data['orientation_W'].tolist()\n",
    "    nx, ny, nz = [], [], []\n",
    "    for i in range(len(x)):\n",
    "        xx, yy, zz = quaternion_to_euler(x[i], y[i], z[i], w[i])\n",
    "        nx.append(xx)\n",
    "        ny.append(yy)\n",
    "        nz.append(zz)\n",
    "\n",
    "    data['euler_x'] = nx\n",
    "    data['euler_y'] = ny\n",
    "    data['euler_z'] = nz\n",
    "\n",
    "    return data\n",
    "\n",
    "eular_angle(X_data).head()"
   ]
  },
  {
   "cell_type": "markdown",
   "metadata": {},
   "source": [
    "Now we will tackle the sensor noise. Since this noise don't bring usefull information for our model and may even affect its performance, we had better filter all data as described in the following steps."
   ]
  },
  {
   "cell_type": "code",
   "execution_count": 22,
   "metadata": {},
   "outputs": [
    {
     "data": {
      "text/plain": [
       "[<matplotlib.lines.Line2D at 0x1a391b9828>]"
      ]
     },
     "execution_count": 22,
     "metadata": {},
     "output_type": "execute_result"
    },
    {
     "data": {
      "image/png": "[encoded data removed]",
      "text/plain": [
       "<Figure size 432x288 with 1 Axes>"
      ]
     },
     "metadata": {},
     "output_type": "display_data"
    }
   ],
   "source": [
    "plt.plot(X_data.angular_velocity_Z[128:256])"
   ]
  },
  {
   "cell_type": "code",
   "execution_count": 23,
   "metadata": {},
   "outputs": [],
   "source": [
    "def filter_signal(signal, threshold=1e3):\n",
    "    fourier = rfft(signal)\n",
    "    frequencies = rfftfreq(signal.size, d=20e-3/signal.size)\n",
    "    fourier[frequencies > threshold] = 0\n",
    "    return irfft(fourier)\n",
    "\n",
    "X_data_denoised = X_data.copy()\n",
    "\n",
    "for col in X_data.columns:\n",
    "    if col[0:3] == 'ang' or col[0:3] == 'lin':\n",
    "        # Apply filter_signal function to the data in each series\n",
    "        denoised_data = X_data.groupby(['series_id'])[col].apply(lambda x: filter_signal(x))\n",
    "\n",
    "        # Assign the denoised data back to X_data\n",
    "        list_denoised_data = []\n",
    "        for arr in denoised_data:\n",
    "            for val in arr:\n",
    "                list_denoised_data.append(val)\n",
    "\n",
    "        X_data_denoised[col] = list_denoised_data\n",
    "        \n",
    "series_dict = {}\n",
    "for series in (X_data_denoised['series_id'].unique()):\n",
    "    series_dict[series] = X_data_denoised[X_data_denoised['series_id'] == series]\n"
   ]
  },
  {
   "cell_type": "code",
   "execution_count": 24,
   "metadata": {},
   "outputs": [],
   "source": [
    "X_data=X_data_denoised.copy()"
   ]
  },
  {
   "cell_type": "code",
   "execution_count": 25,
   "metadata": {},
   "outputs": [
    {
     "data": {
      "text/plain": [
       "[<matplotlib.lines.Line2D at 0x1a3b8e6ac8>]"
      ]
     },
     "execution_count": 25,
     "metadata": {},
     "output_type": "execute_result"
    },
    {
     "data": {
      "image/png": "[encoded data removed]",
      "text/plain": [
       "<Figure size 432x288 with 1 Axes>"
      ]
     },
     "metadata": {},
     "output_type": "display_data"
    }
   ],
   "source": [
    "plt.plot(X_data_denoised.angular_velocity_Z[128:256])"
   ]
  },
  {
   "cell_type": "markdown",
   "metadata": {},
   "source": [
    "As of now all data is separated in each axis, so we can create features calculating the magnitude a relation between them."
   ]
  },
  {
   "cell_type": "code",
   "execution_count": 26,
   "metadata": {},
   "outputs": [],
   "source": [
    "X_data['total_angular_vel'] = (X_data['angular_velocity_X']**2 + X_data['angular_velocity_Y']**2 + X_data['angular_velocity_Z']**2)** 0.5\n",
    "X_data['total_linear_acc'] = (X_data['linear_acceleration_X']**2 + X_data['linear_acceleration_Y']**2 + X_data['linear_acceleration_Z']**2)**0.5\n",
    "X_data['total_orientation'] = (X_data['orientation_X']**2 + X_data['orientation_Y']**2 + X_data['orientation_Z']**2)**0.5\n",
    "X_data['acc_vs_vel'] = X_data['total_linear_acc'] / X_data['total_angular_vel']\n",
    "X_data['total_angle'] = (X_data['euler_x'] ** 2 + X_data['euler_y'] ** 2 + X_data['euler_z'] ** 2) ** 0.5\n",
    "X_data['angle_vs_acc'] = X_data['total_angle'] / X_data['total_linear_acc']\n",
    "X_data['angle_vs_vel'] = X_data['total_angle'] / X_data['total_angular_vel']"
   ]
  },
  {
   "cell_type": "markdown",
   "metadata": {},
   "source": [
    "Finally we can bring the data from the 128 time step to a measurement domain by using basic statics of the time series from each measurement."
   ]
  },
  {
   "cell_type": "code",
   "execution_count": 27,
   "metadata": {},
   "outputs": [
    {
     "name": "stdout",
     "output_type": "stream",
     "text": [
      "FE on column  orientation_X ...\n",
      "FE on column  orientation_Y ...\n",
      "FE on column  orientation_Z ...\n",
      "FE on column  orientation_W ...\n",
      "FE on column  angular_velocity_X ...\n",
      "FE on column  angular_velocity_Y ...\n",
      "FE on column  angular_velocity_Z ...\n",
      "FE on column  linear_acceleration_X ...\n",
      "FE on column  linear_acceleration_Y ...\n",
      "FE on column  linear_acceleration_Z ...\n",
      "FE on column  euler_x ...\n",
      "FE on column  euler_y ...\n",
      "FE on column  euler_z ...\n",
      "FE on column  total_angular_vel ...\n",
      "FE on column  total_linear_acc ...\n",
      "FE on column  total_orientation ...\n",
      "FE on column  acc_vs_vel ...\n",
      "FE on column  total_angle ...\n",
      "FE on column  angle_vs_acc ...\n",
      "FE on column  angle_vs_vel ...\n"
     ]
    }
   ],
   "source": [
    "Input = pd.DataFrame()\n",
    "for col in X_data.columns:\n",
    "        if col in ['row_id','series_id','measurement_number']:\n",
    "            continue\n",
    "        print (\"FE on column \", col, \"...\")\n",
    "        Input[col + '_mean'] = X_data.groupby(['series_id'])[col].mean()\n",
    "        Input[col + '_median'] = X_data.groupby(['series_id'])[col].median()\n",
    "        Input[col + '_max'] = X_data.groupby(['series_id'])[col].max()\n",
    "        Input[col + '_min'] = X_data.groupby(['series_id'])[col].min()\n",
    "        Input[col + '_std'] = X_data.groupby(['series_id'])[col].std()\n",
    "        "
   ]
  },
  {
   "cell_type": "markdown",
   "metadata": {},
   "source": [
    "With the measurement domain data in hand, we will normalize each column"
   ]
  },
  {
   "cell_type": "code",
   "execution_count": 28,
   "metadata": {},
   "outputs": [],
   "source": [
    "x = Input.values\n",
    "min_max_scaler = preprocessing.MinMaxScaler()\n",
    "x_scaled = min_max_scaler.fit_transform(x)\n",
    "Input = pd.DataFrame(x_scaled)"
   ]
  },
  {
   "cell_type": "markdown",
   "metadata": {},
   "source": [
    "The target label data type is string so we should transform it to a unique int label."
   ]
  },
  {
   "cell_type": "code",
   "execution_count": 29,
   "metadata": {},
   "outputs": [
    {
     "data": {
      "text/html": [
       "<div>\n",
       "<style scoped>\n",
       "    .dataframe tbody tr th:only-of-type {\n",
       "        vertical-align: middle;\n",
       "    }\n",
       "\n",
       "    .dataframe tbody tr th {\n",
       "        vertical-align: top;\n",
       "    }\n",
       "\n",
       "    .dataframe thead th {\n",
       "        text-align: right;\n",
       "    }\n",
       "</style>\n",
       "<table border=\"1\" class=\"dataframe\">\n",
       "  <thead>\n",
       "    <tr style=\"text-align: right;\">\n",
       "      <th></th>\n",
       "      <th>series_id</th>\n",
       "      <th>group_id</th>\n",
       "      <th>surface</th>\n",
       "    </tr>\n",
       "  </thead>\n",
       "  <tbody>\n",
       "    <tr>\n",
       "      <th>0</th>\n",
       "      <td>0</td>\n",
       "      <td>13</td>\n",
       "      <td>2</td>\n",
       "    </tr>\n",
       "    <tr>\n",
       "      <th>1</th>\n",
       "      <td>1</td>\n",
       "      <td>31</td>\n",
       "      <td>1</td>\n",
       "    </tr>\n",
       "    <tr>\n",
       "      <th>2</th>\n",
       "      <td>2</td>\n",
       "      <td>20</td>\n",
       "      <td>1</td>\n",
       "    </tr>\n",
       "    <tr>\n",
       "      <th>3</th>\n",
       "      <td>3</td>\n",
       "      <td>31</td>\n",
       "      <td>1</td>\n",
       "    </tr>\n",
       "    <tr>\n",
       "      <th>4</th>\n",
       "      <td>4</td>\n",
       "      <td>22</td>\n",
       "      <td>6</td>\n",
       "    </tr>\n",
       "  </tbody>\n",
       "</table>\n",
       "</div>"
      ],
      "text/plain": [
       "   series_id  group_id  surface\n",
       "0          0        13        2\n",
       "1          1        31        1\n",
       "2          2        20        1\n",
       "3          3        31        1\n",
       "4          4        22        6"
      ]
     },
     "execution_count": 29,
     "metadata": {},
     "output_type": "execute_result"
    }
   ],
   "source": [
    "le=LabelEncoder()\n",
    "Y_data['surface'] = le.fit_transform(Y_data['surface'])\n",
    "Y_data.head()"
   ]
  },
  {
   "cell_type": "markdown",
   "metadata": {},
   "source": [
    "Let's divide the data in test and train using 80/20 ratio given then small dataset."
   ]
  },
  {
   "cell_type": "code",
   "execution_count": 30,
   "metadata": {},
   "outputs": [],
   "source": [
    "xTrain, xTest, yTrain, yTest = train_test_split(Input, Y_data, test_size=0.2, random_state = 0)"
   ]
  },
  {
   "cell_type": "markdown",
   "metadata": {},
   "source": [
    "One of the models in the next chapter will be a neural network. Then the label data is transform to a one hot encoded data"
   ]
  },
  {
   "cell_type": "code",
   "execution_count": 31,
   "metadata": {},
   "outputs": [
    {
     "data": {
      "text/html": [
       "<div>\n",
       "<style scoped>\n",
       "    .dataframe tbody tr th:only-of-type {\n",
       "        vertical-align: middle;\n",
       "    }\n",
       "\n",
       "    .dataframe tbody tr th {\n",
       "        vertical-align: top;\n",
       "    }\n",
       "\n",
       "    .dataframe thead th {\n",
       "        text-align: right;\n",
       "    }\n",
       "</style>\n",
       "<table border=\"1\" class=\"dataframe\">\n",
       "  <thead>\n",
       "    <tr style=\"text-align: right;\">\n",
       "      <th></th>\n",
       "      <th>0</th>\n",
       "      <th>1</th>\n",
       "      <th>2</th>\n",
       "      <th>3</th>\n",
       "      <th>4</th>\n",
       "      <th>5</th>\n",
       "      <th>6</th>\n",
       "      <th>7</th>\n",
       "      <th>8</th>\n",
       "    </tr>\n",
       "  </thead>\n",
       "  <tbody>\n",
       "    <tr>\n",
       "      <th>0</th>\n",
       "      <td>0.0</td>\n",
       "      <td>0.0</td>\n",
       "      <td>0.0</td>\n",
       "      <td>0.0</td>\n",
       "      <td>0.0</td>\n",
       "      <td>1.0</td>\n",
       "      <td>0.0</td>\n",
       "      <td>0.0</td>\n",
       "      <td>0.0</td>\n",
       "    </tr>\n",
       "    <tr>\n",
       "      <th>1</th>\n",
       "      <td>0.0</td>\n",
       "      <td>1.0</td>\n",
       "      <td>0.0</td>\n",
       "      <td>0.0</td>\n",
       "      <td>0.0</td>\n",
       "      <td>0.0</td>\n",
       "      <td>0.0</td>\n",
       "      <td>0.0</td>\n",
       "      <td>0.0</td>\n",
       "    </tr>\n",
       "    <tr>\n",
       "      <th>2</th>\n",
       "      <td>0.0</td>\n",
       "      <td>0.0</td>\n",
       "      <td>0.0</td>\n",
       "      <td>0.0</td>\n",
       "      <td>0.0</td>\n",
       "      <td>0.0</td>\n",
       "      <td>0.0</td>\n",
       "      <td>0.0</td>\n",
       "      <td>1.0</td>\n",
       "    </tr>\n",
       "    <tr>\n",
       "      <th>3</th>\n",
       "      <td>0.0</td>\n",
       "      <td>0.0</td>\n",
       "      <td>1.0</td>\n",
       "      <td>0.0</td>\n",
       "      <td>0.0</td>\n",
       "      <td>0.0</td>\n",
       "      <td>0.0</td>\n",
       "      <td>0.0</td>\n",
       "      <td>0.0</td>\n",
       "    </tr>\n",
       "    <tr>\n",
       "      <th>4</th>\n",
       "      <td>0.0</td>\n",
       "      <td>0.0</td>\n",
       "      <td>0.0</td>\n",
       "      <td>0.0</td>\n",
       "      <td>1.0</td>\n",
       "      <td>0.0</td>\n",
       "      <td>0.0</td>\n",
       "      <td>0.0</td>\n",
       "      <td>0.0</td>\n",
       "    </tr>\n",
       "  </tbody>\n",
       "</table>\n",
       "</div>"
      ],
      "text/plain": [
       "     0    1    2    3    4    5    6    7    8\n",
       "0  0.0  0.0  0.0  0.0  0.0  1.0  0.0  0.0  0.0\n",
       "1  0.0  1.0  0.0  0.0  0.0  0.0  0.0  0.0  0.0\n",
       "2  0.0  0.0  0.0  0.0  0.0  0.0  0.0  0.0  1.0\n",
       "3  0.0  0.0  1.0  0.0  0.0  0.0  0.0  0.0  0.0\n",
       "4  0.0  0.0  0.0  0.0  1.0  0.0  0.0  0.0  0.0"
      ]
     },
     "execution_count": 31,
     "metadata": {},
     "output_type": "execute_result"
    }
   ],
   "source": [
    "encoded = to_categorical(yTrain['surface'])\n",
    "yTrainOHE = pd.DataFrame(encoded)\n",
    "\n",
    "encoded = to_categorical(yTest['surface'])\n",
    "yTestOHE = pd.DataFrame(encoded)\n",
    "\n",
    "yTrainOHE.head()"
   ]
  },
  {
   "cell_type": "code",
   "execution_count": null,
   "metadata": {},
   "outputs": [],
   "source": []
  },
  {
   "cell_type": "markdown",
   "metadata": {},
   "source": [
    "# Model | Neural Network"
   ]
  },
  {
   "cell_type": "markdown",
   "metadata": {},
   "source": [
    "First model to be included is a neural network with a sequential topology using a sigmoid activation function and a one hot encoded output."
   ]
  },
  {
   "cell_type": "code",
   "execution_count": 32,
   "metadata": {},
   "outputs": [
    {
     "data": {
      "text/plain": [
       "[(3048, 100), (762, 100), (3048, 9), (762, 9)]"
      ]
     },
     "execution_count": 32,
     "metadata": {},
     "output_type": "execute_result"
    }
   ],
   "source": [
    "[xTrain.shape, xTest.shape, yTrainOHE.shape, yTestOHE.shape]"
   ]
  },
  {
   "cell_type": "code",
   "execution_count": 33,
   "metadata": {},
   "outputs": [
    {
     "name": "stdout",
     "output_type": "stream",
     "text": [
      "WARNING:tensorflow:From /anaconda3/lib/python3.7/site-packages/tensorflow/python/ops/resource_variable_ops.py:435: colocate_with (from tensorflow.python.framework.ops) is deprecated and will be removed in a future version.\n",
      "Instructions for updating:\n",
      "Colocations handled automatically by placer.\n",
      "WARNING:tensorflow:From /anaconda3/lib/python3.7/site-packages/tensorflow/python/ops/math_ops.py:3066: to_int32 (from tensorflow.python.ops.math_ops) is deprecated and will be removed in a future version.\n",
      "Instructions for updating:\n",
      "Use tf.cast instead.\n",
      "Epoch 1/50\n",
      "3048/3048 [==============================] - 0s 66us/sample - loss: 2.1891 - categorical_accuracy: 0.1972\n",
      "Epoch 2/50\n",
      "3048/3048 [==============================] - 0s 32us/sample - loss: 2.0094 - categorical_accuracy: 0.2152\n",
      "Epoch 3/50\n",
      "3048/3048 [==============================] - 0s 32us/sample - loss: 1.7984 - categorical_accuracy: 0.3425\n",
      "Epoch 4/50\n",
      "3048/3048 [==============================] - 0s 32us/sample - loss: 1.5752 - categorical_accuracy: 0.4042\n",
      "Epoch 5/50\n",
      "3048/3048 [==============================] - 0s 33us/sample - loss: 1.4479 - categorical_accuracy: 0.4738\n",
      "Epoch 6/50\n",
      "3048/3048 [==============================] - 0s 32us/sample - loss: 1.3452 - categorical_accuracy: 0.5174\n",
      "Epoch 7/50\n",
      "3048/3048 [==============================] - 0s 32us/sample - loss: 1.2366 - categorical_accuracy: 0.5633\n",
      "Epoch 8/50\n",
      "3048/3048 [==============================] - 0s 32us/sample - loss: 1.1699 - categorical_accuracy: 0.5866\n",
      "Epoch 9/50\n",
      "3048/3048 [==============================] - 0s 33us/sample - loss: 1.0971 - categorical_accuracy: 0.6086\n",
      "Epoch 10/50\n",
      "3048/3048 [==============================] - 0s 32us/sample - loss: 1.0474 - categorical_accuracy: 0.6362\n",
      "Epoch 11/50\n",
      "3048/3048 [==============================] - 0s 42us/sample - loss: 1.0055 - categorical_accuracy: 0.6529\n",
      "Epoch 12/50\n",
      "3048/3048 [==============================] - 0s 33us/sample - loss: 0.9506 - categorical_accuracy: 0.6867\n",
      "Epoch 13/50\n",
      "3048/3048 [==============================] - 0s 31us/sample - loss: 0.9068 - categorical_accuracy: 0.7005\n",
      "Epoch 14/50\n",
      "3048/3048 [==============================] - 0s 31us/sample - loss: 0.8690 - categorical_accuracy: 0.7096\n",
      "Epoch 15/50\n",
      "3048/3048 [==============================] - 0s 31us/sample - loss: 0.8420 - categorical_accuracy: 0.7152\n",
      "Epoch 16/50\n",
      "3048/3048 [==============================] - 0s 32us/sample - loss: 0.8107 - categorical_accuracy: 0.7323\n",
      "Epoch 17/50\n",
      "3048/3048 [==============================] - 0s 31us/sample - loss: 0.7761 - categorical_accuracy: 0.7408\n",
      "Epoch 18/50\n",
      "3048/3048 [==============================] - 0s 32us/sample - loss: 0.7526 - categorical_accuracy: 0.7461\n",
      "Epoch 19/50\n",
      "3048/3048 [==============================] - 0s 32us/sample - loss: 0.7313 - categorical_accuracy: 0.7569\n",
      "Epoch 20/50\n",
      "3048/3048 [==============================] - 0s 32us/sample - loss: 0.7099 - categorical_accuracy: 0.7539\n",
      "Epoch 21/50\n",
      "3048/3048 [==============================] - 0s 36us/sample - loss: 0.6797 - categorical_accuracy: 0.7687\n",
      "Epoch 22/50\n",
      "3048/3048 [==============================] - 0s 31us/sample - loss: 0.6611 - categorical_accuracy: 0.7782\n",
      "Epoch 23/50\n",
      "3048/3048 [==============================] - 0s 31us/sample - loss: 0.6381 - categorical_accuracy: 0.7740\n",
      "Epoch 24/50\n",
      "3048/3048 [==============================] - 0s 31us/sample - loss: 0.6177 - categorical_accuracy: 0.7913\n",
      "Epoch 25/50\n",
      "3048/3048 [==============================] - 0s 30us/sample - loss: 0.6046 - categorical_accuracy: 0.7920\n",
      "Epoch 26/50\n",
      "3048/3048 [==============================] - 0s 32us/sample - loss: 0.5897 - categorical_accuracy: 0.7992\n",
      "Epoch 27/50\n",
      "3048/3048 [==============================] - 0s 30us/sample - loss: 0.5722 - categorical_accuracy: 0.7963\n",
      "Epoch 28/50\n",
      "3048/3048 [==============================] - 0s 33us/sample - loss: 0.5612 - categorical_accuracy: 0.8035\n",
      "Epoch 29/50\n",
      "3048/3048 [==============================] - 0s 32us/sample - loss: 0.5489 - categorical_accuracy: 0.8117\n",
      "Epoch 30/50\n",
      "3048/3048 [==============================] - 0s 31us/sample - loss: 0.5193 - categorical_accuracy: 0.8196\n",
      "Epoch 31/50\n",
      "3048/3048 [==============================] - 0s 31us/sample - loss: 0.5170 - categorical_accuracy: 0.8222\n",
      "Epoch 32/50\n",
      "3048/3048 [==============================] - 0s 31us/sample - loss: 0.5062 - categorical_accuracy: 0.8323\n",
      "Epoch 33/50\n",
      "3048/3048 [==============================] - 0s 31us/sample - loss: 0.4784 - categorical_accuracy: 0.8268\n",
      "Epoch 34/50\n",
      "3048/3048 [==============================] - 0s 32us/sample - loss: 0.4856 - categorical_accuracy: 0.8301\n",
      "Epoch 35/50\n",
      "3048/3048 [==============================] - 0s 32us/sample - loss: 0.4696 - categorical_accuracy: 0.8389\n",
      "Epoch 36/50\n",
      "3048/3048 [==============================] - 0s 32us/sample - loss: 0.4520 - categorical_accuracy: 0.8425\n",
      "Epoch 37/50\n",
      "3048/3048 [==============================] - 0s 32us/sample - loss: 0.4395 - categorical_accuracy: 0.8465\n",
      "Epoch 38/50\n",
      "3048/3048 [==============================] - 0s 31us/sample - loss: 0.4348 - categorical_accuracy: 0.8468\n",
      "Epoch 39/50\n",
      "3048/3048 [==============================] - 0s 32us/sample - loss: 0.4218 - categorical_accuracy: 0.8537\n",
      "Epoch 40/50\n",
      "3048/3048 [==============================] - 0s 31us/sample - loss: 0.4160 - categorical_accuracy: 0.8537\n",
      "Epoch 41/50\n",
      "3048/3048 [==============================] - 0s 31us/sample - loss: 0.4072 - categorical_accuracy: 0.8615\n",
      "Epoch 42/50\n",
      "3048/3048 [==============================] - 0s 30us/sample - loss: 0.4089 - categorical_accuracy: 0.8553\n",
      "Epoch 43/50\n",
      "3048/3048 [==============================] - 0s 31us/sample - loss: 0.3986 - categorical_accuracy: 0.8635\n",
      "Epoch 44/50\n",
      "3048/3048 [==============================] - 0s 31us/sample - loss: 0.3811 - categorical_accuracy: 0.8671\n",
      "Epoch 45/50\n",
      "3048/3048 [==============================] - 0s 31us/sample - loss: 0.3622 - categorical_accuracy: 0.8734\n",
      "Epoch 46/50\n",
      "3048/3048 [==============================] - 0s 31us/sample - loss: 0.3777 - categorical_accuracy: 0.8688\n",
      "Epoch 47/50\n",
      "3048/3048 [==============================] - 0s 30us/sample - loss: 0.3728 - categorical_accuracy: 0.8711\n",
      "Epoch 48/50\n",
      "3048/3048 [==============================] - 0s 31us/sample - loss: 0.3593 - categorical_accuracy: 0.8757\n",
      "Epoch 49/50\n",
      "3048/3048 [==============================] - 0s 32us/sample - loss: 0.3488 - categorical_accuracy: 0.8714\n",
      "Epoch 50/50\n",
      "3048/3048 [==============================] - 0s 31us/sample - loss: 0.3521 - categorical_accuracy: 0.8770\n"
     ]
    },
    {
     "data": {
      "text/plain": [
       "<tensorflow.python.keras.callbacks.History at 0x1a3b85f0b8>"
      ]
     },
     "execution_count": 33,
     "metadata": {},
     "output_type": "execute_result"
    }
   ],
   "source": [
    "model = keras.Sequential()\n",
    "model.add(keras.layers.Dense(64, input_shape=(100,), activation=tf.nn.sigmoid))\n",
    "model.add(keras.layers.Dense(32,activation=tf.nn.sigmoid))\n",
    "model.add(keras.layers.Dense(16,activation=tf.nn.sigmoid))\n",
    "model.add(keras.layers.Dense(9,activation=tf.nn.softmax))\n",
    "\n",
    "model.compile(optimizer=tf.train.RMSPropOptimizer(0.01),\n",
    "              loss=tf.keras.losses.categorical_crossentropy,\n",
    "              metrics=[tf.keras.metrics.categorical_accuracy])\n",
    "\n",
    "model.fit(xTrain, yTrainOHE, epochs=50)\n",
    "\n"
   ]
  },
  {
   "cell_type": "code",
   "execution_count": 34,
   "metadata": {},
   "outputs": [
    {
     "name": "stdout",
     "output_type": "stream",
     "text": [
      "762/762 [==============================] - 0s 85us/sample - loss: 0.5579 - categorical_accuracy: 0.8163\n"
     ]
    },
    {
     "data": {
      "text/plain": [
       "[0.5578744890182976, 0.816273]"
      ]
     },
     "execution_count": 34,
     "metadata": {},
     "output_type": "execute_result"
    }
   ],
   "source": [
    "model.evaluate(xTest,yTestOHE)"
   ]
  },
  {
   "cell_type": "markdown",
   "metadata": {},
   "source": [
    "Even with a small model and few iterations of parameter tuning it was possible to achieve over 75% of accuracy."
   ]
  },
  {
   "cell_type": "markdown",
   "metadata": {},
   "source": [
    "# Model | Random Forest"
   ]
  },
  {
   "cell_type": "markdown",
   "metadata": {},
   "source": [
    "Second model is the Random Forest, which creates a structure of decision trees to absorb the data patterns and represent the model. It is well now for the good performance on multiclassification problems."
   ]
  },
  {
   "cell_type": "code",
   "execution_count": 35,
   "metadata": {},
   "outputs": [
    {
     "data": {
      "text/html": [
       "<div>\n",
       "<style scoped>\n",
       "    .dataframe tbody tr th:only-of-type {\n",
       "        vertical-align: middle;\n",
       "    }\n",
       "\n",
       "    .dataframe tbody tr th {\n",
       "        vertical-align: top;\n",
       "    }\n",
       "\n",
       "    .dataframe thead th {\n",
       "        text-align: right;\n",
       "    }\n",
       "</style>\n",
       "<table border=\"1\" class=\"dataframe\">\n",
       "  <thead>\n",
       "    <tr style=\"text-align: right;\">\n",
       "      <th></th>\n",
       "      <th>series_id</th>\n",
       "      <th>group_id</th>\n",
       "      <th>surface</th>\n",
       "    </tr>\n",
       "  </thead>\n",
       "  <tbody>\n",
       "    <tr>\n",
       "      <th>3257</th>\n",
       "      <td>3257</td>\n",
       "      <td>70</td>\n",
       "      <td>5</td>\n",
       "    </tr>\n",
       "    <tr>\n",
       "      <th>3017</th>\n",
       "      <td>3017</td>\n",
       "      <td>62</td>\n",
       "      <td>1</td>\n",
       "    </tr>\n",
       "    <tr>\n",
       "      <th>3355</th>\n",
       "      <td>3355</td>\n",
       "      <td>38</td>\n",
       "      <td>8</td>\n",
       "    </tr>\n",
       "    <tr>\n",
       "      <th>1763</th>\n",
       "      <td>1763</td>\n",
       "      <td>72</td>\n",
       "      <td>2</td>\n",
       "    </tr>\n",
       "    <tr>\n",
       "      <th>1044</th>\n",
       "      <td>1044</td>\n",
       "      <td>33</td>\n",
       "      <td>4</td>\n",
       "    </tr>\n",
       "  </tbody>\n",
       "</table>\n",
       "</div>"
      ],
      "text/plain": [
       "      series_id  group_id  surface\n",
       "3257       3257        70        5\n",
       "3017       3017        62        1\n",
       "3355       3355        38        8\n",
       "1763       1763        72        2\n",
       "1044       1044        33        4"
      ]
     },
     "execution_count": 35,
     "metadata": {},
     "output_type": "execute_result"
    }
   ],
   "source": [
    "yTrain.head()"
   ]
  },
  {
   "cell_type": "code",
   "execution_count": 36,
   "metadata": {},
   "outputs": [
    {
     "name": "stdout",
     "output_type": "stream",
     "text": [
      "Fold: 0 score: 0.7023498694516971\n",
      "Fold: 1 score: 0.7633986928104575\n",
      "Fold: 2 score: 0.6968503937007874\n",
      "Fold: 3 score: 0.6934210526315789\n",
      "Fold: 4 score: 0.7357992073976222\n"
     ]
    }
   ],
   "source": [
    "folds = StratifiedKFold(n_splits=5, shuffle=True, random_state=60)\n",
    "predicted = np.zeros((xTest.shape[0],9))\n",
    "measured= np.zeros((Input.shape[0]))\n",
    "score = 0\n",
    "\n",
    "for times, (trn_idx, val_idx) in enumerate(folds.split(Input.values,Y_data['surface'].values)):\n",
    "    model2 = RandomForestClassifier(n_estimators=300, max_depth=5, min_samples_split=5, n_jobs=-1)\n",
    "    model2.fit(Input.iloc[trn_idx],Y_data['surface'][trn_idx])\n",
    "    measured[val_idx] = model2.predict(Input.iloc[val_idx])\n",
    "    predicted += model2.predict_proba(xTest)/folds.n_splits\n",
    "    score += model2.score(Input.iloc[val_idx],Y_data['surface'][val_idx])\n",
    "    print(\"Fold: {} score: {}\".format(times,model2.score(Input.iloc[val_idx],Y_data['surface'][val_idx])))\n",
    "\n",
    "    gc.collect()"
   ]
  },
  {
   "cell_type": "code",
   "execution_count": 37,
   "metadata": {},
   "outputs": [
    {
     "name": "stdout",
     "output_type": "stream",
     "text": [
      "Average score 0.7183638431984287\n"
     ]
    }
   ],
   "source": [
    "print('Average score', score / folds.n_splits)"
   ]
  },
  {
   "cell_type": "markdown",
   "metadata": {},
   "source": [
    "Work on tuning was more demanding than from the neural network and even so the perfomance is still lower than the previous model."
   ]
  },
  {
   "cell_type": "code",
   "execution_count": 38,
   "metadata": {},
   "outputs": [
    {
     "data": {
      "text/plain": [
       "array([[ 63,   4,   0,   0,   1,   1,   2,   0,   2],\n",
       "       [ 30, 652,  29,   0,  32,  38,  10,  75,  52],\n",
       "       [  5,   3, 178,   0,   4,   8,   7,   3,   5],\n",
       "       [  0,   0,   0,   0,   0,   0,   0,   0,   0],\n",
       "       [  2,  23,   9,   0, 237,   8,   0,   5,   0],\n",
       "       [ 35,  50,  49,  13,  10, 632,  37,  35, 123],\n",
       "       [ 14,  12,  13,   1,   5,  20, 234,  10,  19],\n",
       "       [  5,  17,  45,   0,   2,   7,   0, 383,  48],\n",
       "       [ 35,  18,  40,   7,  17,  18,   7,   3, 358]])"
      ]
     },
     "execution_count": 38,
     "metadata": {},
     "output_type": "execute_result"
    }
   ],
   "source": [
    "confusion_matrix(measured,Y_data['surface'])"
   ]
  },
  {
   "cell_type": "code",
   "execution_count": 39,
   "metadata": {},
   "outputs": [
    {
     "data": {
      "text/plain": [
       "Text(0.5, 24.0, 'Predicted label')"
      ]
     },
     "execution_count": 39,
     "metadata": {},
     "output_type": "execute_result"
    },
    {
     "data": {
      "image/png": "[encoded data removed]",
      "text/plain": [
       "<Figure size 864x360 with 2 Axes>"
      ]
     },
     "metadata": {},
     "output_type": "display_data"
    }
   ],
   "source": [
    "fig, ax = plt.subplots(1,1,figsize=(12,5))\n",
    "sns.heatmap(pd.DataFrame(confusion_matrix(measured,Y_data['surface'])),\n",
    "            ax = ax,\n",
    "            cmap = 'coolwarm',\n",
    "            annot = True,\n",
    "            fmt = '.2f',\n",
    "            linewidths = 0.05)\n",
    "fig.subplots_adjust(top=0.93)\n",
    "fig.suptitle('Confusion matrix, Actual vs Predicted label Correlation Heatmap',\n",
    "              fontsize=14,\n",
    "              fontweight='bold')\n",
    "plt.ylabel('Actual label')\n",
    "plt.xlabel('Predicted label')"
   ]
  },
  {
   "cell_type": "markdown",
   "metadata": {},
   "source": [
    "# Feature Engineering 2"
   ]
  },
  {
   "cell_type": "markdown",
   "metadata": {},
   "source": [
    "One actions to improve the perfomance of the classifiers is improving the data in itself. So before making anymore tunings in the model, let's create additional features."
   ]
  },
  {
   "cell_type": "code",
   "execution_count": 40,
   "metadata": {},
   "outputs": [
    {
     "name": "stdout",
     "output_type": "stream",
     "text": [
      "FE on column  orientation_X ...\n",
      "FE on column  orientation_Y ...\n",
      "FE on column  orientation_Z ...\n",
      "FE on column  orientation_W ...\n",
      "FE on column  angular_velocity_X ...\n",
      "FE on column  angular_velocity_Y ...\n",
      "FE on column  angular_velocity_Z ...\n",
      "FE on column  linear_acceleration_X ...\n",
      "FE on column  linear_acceleration_Y ...\n",
      "FE on column  linear_acceleration_Z ...\n",
      "FE on column  euler_x ...\n",
      "FE on column  euler_y ...\n",
      "FE on column  euler_z ...\n",
      "FE on column  total_angular_vel ...\n",
      "FE on column  total_linear_acc ...\n",
      "FE on column  total_orientation ...\n",
      "FE on column  acc_vs_vel ...\n",
      "FE on column  total_angle ...\n",
      "FE on column  angle_vs_acc ...\n",
      "FE on column  angle_vs_vel ...\n"
     ]
    }
   ],
   "source": [
    "Input2=Input.copy()\n",
    "for col in X_data.columns:\n",
    "        if col in ['row_id','series_id','measurement_number']:\n",
    "            continue\n",
    "        print (\"FE on column \", col, \"...\")\n",
    "        #Input2[col + '_range'] = Input2[col + '_max'] - Input2[col + '_min']\n",
    "        #Input2[col + '_maxtoMin'] = Input2[col + '_max'] / Input2[col + '_min']\n",
    "        Input2[col + '_mad'] = X_data.groupby(['series_id'])[col].apply(lambda x: np.median(np.abs(np.diff(x))))\n",
    "        Input2[col + '_abs_max'] = X_data.groupby(['series_id'])[col].apply(lambda x: np.max(np.abs(x)))\n",
    "        Input2[col + '_abs_min'] = X_data.groupby(['series_id'])[col].apply(lambda x: np.min(np.abs(x)))\n",
    "        Input2[col + '_abs_avg'] = (Input2[col + '_abs_min'] + Input2[col + '_abs_max'])/2\n",
    "        Input2[col + '_skew'] = X_data.groupby(['series_id'])[col].skew()\n",
    "        Input2[col + '_mad'] = X_data.groupby(['series_id'])[col].mad()\n",
    "        Input2[col + '_q25'] = X_data.groupby(['series_id'])[col].quantile(0.25)\n",
    "        Input2[col + '_q75'] = X_data.groupby(['series_id'])[col].quantile(0.75)\n",
    "        Input2[col + '_q95'] = X_data.groupby(['series_id'])[col].quantile(0.95)\n",
    "        Input2[col + '_iqr'] = Input2[col + '_q75'] - Input2[col + '_q25']\n",
    "        Input2[col + '_SSC'] = X_data.groupby(['series_id'])[col].apply(SSC)\n",
    "        Input2[col + '_skewness'] = X_data.groupby(['series_id'])[col].apply(skewness)\n",
    "        Input2[col + '_wave_lenght'] = X_data.groupby(['series_id'])[col].apply(wave_length)\n",
    "        Input2[col + '_norm_entropy'] = X_data.groupby(['series_id'])[col].apply(norm_entropy)\n",
    "        Input2[col + '_SRAV'] = X_data.groupby(['series_id'])[col].apply(SRAV)\n",
    "        Input2[col + '_kurtosis'] = X_data.groupby(['series_id'])[col].apply(_kurtosis)\n",
    "        Input2[col + '_zero_crossing'] = X_data.groupby(['series_id'])[col].apply(zero_crossing)"
   ]
  },
  {
   "cell_type": "markdown",
   "metadata": {},
   "source": [
    "We normalize the data again and encode the label"
   ]
  },
  {
   "cell_type": "code",
   "execution_count": 41,
   "metadata": {},
   "outputs": [],
   "source": [
    "\n",
    "x2 = Input2.values\n",
    "min_max_scaler2 = preprocessing.MinMaxScaler()\n",
    "x_scaled2 = min_max_scaler2.fit_transform(x2)\n",
    "Input2 = pd.DataFrame(x_scaled2)"
   ]
  },
  {
   "cell_type": "code",
   "execution_count": 42,
   "metadata": {},
   "outputs": [
    {
     "data": {
      "text/html": [
       "<div>\n",
       "<style scoped>\n",
       "    .dataframe tbody tr th:only-of-type {\n",
       "        vertical-align: middle;\n",
       "    }\n",
       "\n",
       "    .dataframe tbody tr th {\n",
       "        vertical-align: top;\n",
       "    }\n",
       "\n",
       "    .dataframe thead th {\n",
       "        text-align: right;\n",
       "    }\n",
       "</style>\n",
       "<table border=\"1\" class=\"dataframe\">\n",
       "  <thead>\n",
       "    <tr style=\"text-align: right;\">\n",
       "      <th></th>\n",
       "      <th>series_id</th>\n",
       "      <th>group_id</th>\n",
       "      <th>surface</th>\n",
       "    </tr>\n",
       "  </thead>\n",
       "  <tbody>\n",
       "    <tr>\n",
       "      <th>0</th>\n",
       "      <td>0</td>\n",
       "      <td>13</td>\n",
       "      <td>2</td>\n",
       "    </tr>\n",
       "    <tr>\n",
       "      <th>1</th>\n",
       "      <td>1</td>\n",
       "      <td>31</td>\n",
       "      <td>1</td>\n",
       "    </tr>\n",
       "    <tr>\n",
       "      <th>2</th>\n",
       "      <td>2</td>\n",
       "      <td>20</td>\n",
       "      <td>1</td>\n",
       "    </tr>\n",
       "    <tr>\n",
       "      <th>3</th>\n",
       "      <td>3</td>\n",
       "      <td>31</td>\n",
       "      <td>1</td>\n",
       "    </tr>\n",
       "    <tr>\n",
       "      <th>4</th>\n",
       "      <td>4</td>\n",
       "      <td>22</td>\n",
       "      <td>6</td>\n",
       "    </tr>\n",
       "  </tbody>\n",
       "</table>\n",
       "</div>"
      ],
      "text/plain": [
       "   series_id  group_id  surface\n",
       "0          0        13        2\n",
       "1          1        31        1\n",
       "2          2        20        1\n",
       "3          3        31        1\n",
       "4          4        22        6"
      ]
     },
     "execution_count": 42,
     "metadata": {},
     "output_type": "execute_result"
    }
   ],
   "source": [
    "Y_data2=Y_data.copy()\n",
    "le2=LabelEncoder()\n",
    "Y_data2['surface'] = le.fit_transform(Y_data['surface'])\n",
    "Y_data2.head()"
   ]
  },
  {
   "cell_type": "markdown",
   "metadata": {},
   "source": [
    "Separated in test and train, additionally transform the label into a one hot encoded shape."
   ]
  },
  {
   "cell_type": "code",
   "execution_count": 43,
   "metadata": {},
   "outputs": [],
   "source": [
    "xTrain2, xTest2, yTrain2, yTest2 = train_test_split(Input2, Y_data2, test_size=0.2, random_state = 0)"
   ]
  },
  {
   "cell_type": "code",
   "execution_count": 44,
   "metadata": {},
   "outputs": [
    {
     "data": {
      "text/html": [
       "<div>\n",
       "<style scoped>\n",
       "    .dataframe tbody tr th:only-of-type {\n",
       "        vertical-align: middle;\n",
       "    }\n",
       "\n",
       "    .dataframe tbody tr th {\n",
       "        vertical-align: top;\n",
       "    }\n",
       "\n",
       "    .dataframe thead th {\n",
       "        text-align: right;\n",
       "    }\n",
       "</style>\n",
       "<table border=\"1\" class=\"dataframe\">\n",
       "  <thead>\n",
       "    <tr style=\"text-align: right;\">\n",
       "      <th></th>\n",
       "      <th>0</th>\n",
       "      <th>1</th>\n",
       "      <th>2</th>\n",
       "      <th>3</th>\n",
       "      <th>4</th>\n",
       "      <th>5</th>\n",
       "      <th>6</th>\n",
       "      <th>7</th>\n",
       "      <th>8</th>\n",
       "    </tr>\n",
       "  </thead>\n",
       "  <tbody>\n",
       "    <tr>\n",
       "      <th>0</th>\n",
       "      <td>0.0</td>\n",
       "      <td>0.0</td>\n",
       "      <td>0.0</td>\n",
       "      <td>0.0</td>\n",
       "      <td>0.0</td>\n",
       "      <td>1.0</td>\n",
       "      <td>0.0</td>\n",
       "      <td>0.0</td>\n",
       "      <td>0.0</td>\n",
       "    </tr>\n",
       "    <tr>\n",
       "      <th>1</th>\n",
       "      <td>0.0</td>\n",
       "      <td>1.0</td>\n",
       "      <td>0.0</td>\n",
       "      <td>0.0</td>\n",
       "      <td>0.0</td>\n",
       "      <td>0.0</td>\n",
       "      <td>0.0</td>\n",
       "      <td>0.0</td>\n",
       "      <td>0.0</td>\n",
       "    </tr>\n",
       "    <tr>\n",
       "      <th>2</th>\n",
       "      <td>0.0</td>\n",
       "      <td>0.0</td>\n",
       "      <td>0.0</td>\n",
       "      <td>0.0</td>\n",
       "      <td>0.0</td>\n",
       "      <td>0.0</td>\n",
       "      <td>0.0</td>\n",
       "      <td>0.0</td>\n",
       "      <td>1.0</td>\n",
       "    </tr>\n",
       "    <tr>\n",
       "      <th>3</th>\n",
       "      <td>0.0</td>\n",
       "      <td>0.0</td>\n",
       "      <td>1.0</td>\n",
       "      <td>0.0</td>\n",
       "      <td>0.0</td>\n",
       "      <td>0.0</td>\n",
       "      <td>0.0</td>\n",
       "      <td>0.0</td>\n",
       "      <td>0.0</td>\n",
       "    </tr>\n",
       "    <tr>\n",
       "      <th>4</th>\n",
       "      <td>0.0</td>\n",
       "      <td>0.0</td>\n",
       "      <td>0.0</td>\n",
       "      <td>0.0</td>\n",
       "      <td>1.0</td>\n",
       "      <td>0.0</td>\n",
       "      <td>0.0</td>\n",
       "      <td>0.0</td>\n",
       "      <td>0.0</td>\n",
       "    </tr>\n",
       "  </tbody>\n",
       "</table>\n",
       "</div>"
      ],
      "text/plain": [
       "     0    1    2    3    4    5    6    7    8\n",
       "0  0.0  0.0  0.0  0.0  0.0  1.0  0.0  0.0  0.0\n",
       "1  0.0  1.0  0.0  0.0  0.0  0.0  0.0  0.0  0.0\n",
       "2  0.0  0.0  0.0  0.0  0.0  0.0  0.0  0.0  1.0\n",
       "3  0.0  0.0  1.0  0.0  0.0  0.0  0.0  0.0  0.0\n",
       "4  0.0  0.0  0.0  0.0  1.0  0.0  0.0  0.0  0.0"
      ]
     },
     "execution_count": 44,
     "metadata": {},
     "output_type": "execute_result"
    }
   ],
   "source": [
    "encoded2 = to_categorical(yTrain2['surface'])\n",
    "yTrainOHE2 = pd.DataFrame(encoded2)\n",
    "\n",
    "encoded2 = to_categorical(yTest2['surface'])\n",
    "yTestOHE2 = pd.DataFrame(encoded2)\n",
    "\n",
    "yTrainOHE2.head()"
   ]
  },
  {
   "cell_type": "markdown",
   "metadata": {},
   "source": [
    "# Model | Neural Network 2"
   ]
  },
  {
   "cell_type": "markdown",
   "metadata": {},
   "source": [
    "We repeat the previous chapter steps and bring on improvements in to model to accomodate the new data."
   ]
  },
  {
   "cell_type": "code",
   "execution_count": 45,
   "metadata": {},
   "outputs": [
    {
     "data": {
      "text/plain": [
       "[(3048, 420), (762, 420), (3048, 9), (762, 9)]"
      ]
     },
     "execution_count": 45,
     "metadata": {},
     "output_type": "execute_result"
    }
   ],
   "source": [
    "[xTrain2.shape, xTest2.shape, yTrainOHE2.shape, yTestOHE2.shape]"
   ]
  },
  {
   "cell_type": "code",
   "execution_count": 46,
   "metadata": {},
   "outputs": [
    {
     "name": "stdout",
     "output_type": "stream",
     "text": [
      "Epoch 1/200\n",
      "3048/3048 [==============================] - 1s 168us/sample - loss: 2.0715 - acc: 0.1972\n",
      "Epoch 2/200\n",
      "3048/3048 [==============================] - 0s 103us/sample - loss: 1.9926 - acc: 0.2470\n",
      "Epoch 3/200\n",
      "3048/3048 [==============================] - 0s 99us/sample - loss: 1.8090 - acc: 0.3671\n",
      "Epoch 4/200\n",
      "3048/3048 [==============================] - 0s 98us/sample - loss: 1.6699 - acc: 0.3996\n",
      "Epoch 5/200\n",
      "3048/3048 [==============================] - 0s 91us/sample - loss: 1.5884 - acc: 0.4236\n",
      "Epoch 6/200\n",
      "3048/3048 [==============================] - 0s 107us/sample - loss: 1.5349 - acc: 0.4616\n",
      "Epoch 7/200\n",
      "3048/3048 [==============================] - 0s 90us/sample - loss: 1.4551 - acc: 0.4964\n",
      "Epoch 8/200\n",
      "3048/3048 [==============================] - 0s 88us/sample - loss: 1.3980 - acc: 0.5249\n",
      "Epoch 9/200\n",
      "3048/3048 [==============================] - 0s 93us/sample - loss: 1.3289 - acc: 0.5614\n",
      "Epoch 10/200\n",
      "3048/3048 [==============================] - 0s 87us/sample - loss: 1.2746 - acc: 0.5764\n",
      "Epoch 11/200\n",
      "3048/3048 [==============================] - 0s 87us/sample - loss: 1.2202 - acc: 0.6027\n",
      "Epoch 12/200\n",
      "3048/3048 [==============================] - 0s 95us/sample - loss: 1.1765 - acc: 0.6145\n",
      "Epoch 13/200\n",
      "3048/3048 [==============================] - 0s 94us/sample - loss: 1.1415 - acc: 0.6378\n",
      "Epoch 14/200\n",
      "3048/3048 [==============================] - 0s 95us/sample - loss: 1.1003 - acc: 0.6565\n",
      "Epoch 15/200\n",
      "3048/3048 [==============================] - 0s 88us/sample - loss: 1.0560 - acc: 0.6755\n",
      "Epoch 16/200\n",
      "3048/3048 [==============================] - 0s 92us/sample - loss: 1.0101 - acc: 0.6886\n",
      "Epoch 17/200\n",
      "3048/3048 [==============================] - 0s 106us/sample - loss: 0.9871 - acc: 0.6998\n",
      "Epoch 18/200\n",
      "3048/3048 [==============================] - 0s 94us/sample - loss: 0.9578 - acc: 0.7037\n",
      "Epoch 19/200\n",
      "3048/3048 [==============================] - 0s 89us/sample - loss: 0.9209 - acc: 0.7146\n",
      "Epoch 20/200\n",
      "3048/3048 [==============================] - 0s 98us/sample - loss: 0.8981 - acc: 0.7165\n",
      "Epoch 21/200\n",
      "3048/3048 [==============================] - 0s 103us/sample - loss: 0.8809 - acc: 0.7264\n",
      "Epoch 22/200\n",
      "3048/3048 [==============================] - 0s 93us/sample - loss: 0.8435 - acc: 0.7392\n",
      "Epoch 23/200\n",
      "3048/3048 [==============================] - 0s 95us/sample - loss: 0.8286 - acc: 0.7493\n",
      "Epoch 24/200\n",
      "3048/3048 [==============================] - 0s 97us/sample - loss: 0.7966 - acc: 0.7510\n",
      "Epoch 25/200\n",
      "3048/3048 [==============================] - 0s 88us/sample - loss: 0.7744 - acc: 0.7549\n",
      "Epoch 26/200\n",
      "3048/3048 [==============================] - 0s 97us/sample - loss: 0.7530 - acc: 0.7628\n",
      "Epoch 27/200\n",
      "3048/3048 [==============================] - 0s 95us/sample - loss: 0.7384 - acc: 0.7684\n",
      "Epoch 28/200\n",
      "3048/3048 [==============================] - 0s 88us/sample - loss: 0.7077 - acc: 0.7795\n",
      "Epoch 29/200\n",
      "3048/3048 [==============================] - 0s 95us/sample - loss: 0.6882 - acc: 0.7900\n",
      "Epoch 30/200\n",
      "3048/3048 [==============================] - ETA: 0s - loss: 0.6729 - acc: 0.791 - 0s 118us/sample - loss: 0.6771 - acc: 0.7910\n",
      "Epoch 31/200\n",
      "3048/3048 [==============================] - 0s 95us/sample - loss: 0.6504 - acc: 0.8058\n",
      "Epoch 32/200\n",
      "3048/3048 [==============================] - 0s 99us/sample - loss: 0.6256 - acc: 0.8186\n",
      "Epoch 33/200\n",
      "3048/3048 [==============================] - 0s 102us/sample - loss: 0.6029 - acc: 0.8202\n",
      "Epoch 34/200\n",
      "3048/3048 [==============================] - 0s 95us/sample - loss: 0.5907 - acc: 0.8209\n",
      "Epoch 35/200\n",
      "3048/3048 [==============================] - 0s 107us/sample - loss: 0.5707 - acc: 0.8301\n",
      "Epoch 36/200\n",
      "3048/3048 [==============================] - 0s 93us/sample - loss: 0.5628 - acc: 0.8317\n",
      "Epoch 37/200\n",
      "3048/3048 [==============================] - 0s 91us/sample - loss: 0.5361 - acc: 0.8317\n",
      "Epoch 38/200\n",
      "3048/3048 [==============================] - 0s 87us/sample - loss: 0.5179 - acc: 0.8468\n",
      "Epoch 39/200\n",
      "3048/3048 [==============================] - 0s 95us/sample - loss: 0.5054 - acc: 0.8471\n",
      "Epoch 40/200\n",
      "3048/3048 [==============================] - 0s 94us/sample - loss: 0.4884 - acc: 0.8478\n",
      "Epoch 41/200\n",
      "3048/3048 [==============================] - 0s 91us/sample - loss: 0.4651 - acc: 0.8599\n",
      "Epoch 42/200\n",
      "3048/3048 [==============================] - 0s 91us/sample - loss: 0.4522 - acc: 0.8586\n",
      "Epoch 43/200\n",
      "3048/3048 [==============================] - 0s 86us/sample - loss: 0.4431 - acc: 0.8638\n",
      "Epoch 44/200\n",
      "3048/3048 [==============================] - 0s 88us/sample - loss: 0.4192 - acc: 0.8724\n",
      "Epoch 45/200\n",
      "3048/3048 [==============================] - 0s 87us/sample - loss: 0.4100 - acc: 0.8724\n",
      "Epoch 46/200\n",
      "3048/3048 [==============================] - 0s 108us/sample - loss: 0.3920 - acc: 0.8799\n",
      "Epoch 47/200\n",
      "3048/3048 [==============================] - 0s 89us/sample - loss: 0.3907 - acc: 0.8753\n",
      "Epoch 48/200\n",
      "3048/3048 [==============================] - 0s 98us/sample - loss: 0.3665 - acc: 0.8894\n",
      "Epoch 49/200\n",
      "3048/3048 [==============================] - 0s 90us/sample - loss: 0.3610 - acc: 0.8898\n",
      "Epoch 50/200\n",
      "3048/3048 [==============================] - 0s 87us/sample - loss: 0.3344 - acc: 0.8993\n",
      "Epoch 51/200\n",
      "3048/3048 [==============================] - 0s 86us/sample - loss: 0.3284 - acc: 0.8934\n",
      "Epoch 52/200\n",
      "3048/3048 [==============================] - 0s 94us/sample - loss: 0.3123 - acc: 0.9012\n",
      "Epoch 53/200\n",
      "3048/3048 [==============================] - 0s 90us/sample - loss: 0.3078 - acc: 0.9009\n",
      "Epoch 54/200\n",
      "3048/3048 [==============================] - 0s 94us/sample - loss: 0.2911 - acc: 0.9144\n",
      "Epoch 55/200\n",
      "3048/3048 [==============================] - 0s 88us/sample - loss: 0.3115 - acc: 0.8996\n",
      "Epoch 56/200\n",
      "3048/3048 [==============================] - 0s 101us/sample - loss: 0.2761 - acc: 0.9134\n",
      "Epoch 57/200\n",
      "3048/3048 [==============================] - 0s 103us/sample - loss: 0.2794 - acc: 0.9150\n",
      "Epoch 58/200\n",
      "3048/3048 [==============================] - 0s 99us/sample - loss: 0.2616 - acc: 0.9183\n",
      "Epoch 59/200\n",
      "3048/3048 [==============================] - 0s 94us/sample - loss: 0.2639 - acc: 0.9193\n",
      "Epoch 60/200\n",
      "3048/3048 [==============================] - 0s 103us/sample - loss: 0.2459 - acc: 0.9272\n",
      "Epoch 61/200\n",
      "3048/3048 [==============================] - 0s 103us/sample - loss: 0.2471 - acc: 0.9209\n",
      "Epoch 62/200\n",
      "3048/3048 [==============================] - 0s 92us/sample - loss: 0.2271 - acc: 0.9288\n",
      "Epoch 63/200\n",
      "3048/3048 [==============================] - 0s 87us/sample - loss: 0.2244 - acc: 0.9298\n",
      "Epoch 64/200\n",
      "3048/3048 [==============================] - 0s 85us/sample - loss: 0.2250 - acc: 0.9308\n",
      "Epoch 65/200\n",
      "3048/3048 [==============================] - 0s 88us/sample - loss: 0.2201 - acc: 0.9291\n",
      "Epoch 66/200\n",
      "3048/3048 [==============================] - 0s 87us/sample - loss: 0.2070 - acc: 0.9347\n",
      "Epoch 67/200\n",
      "3048/3048 [==============================] - 0s 88us/sample - loss: 0.1930 - acc: 0.9386\n",
      "Epoch 68/200\n",
      "3048/3048 [==============================] - 0s 97us/sample - loss: 0.1964 - acc: 0.9383\n",
      "Epoch 69/200\n",
      "3048/3048 [==============================] - 0s 99us/sample - loss: 0.1900 - acc: 0.9396\n",
      "Epoch 70/200\n",
      "3048/3048 [==============================] - 0s 94us/sample - loss: 0.2011 - acc: 0.9354\n",
      "Epoch 71/200\n",
      "3048/3048 [==============================] - 0s 91us/sample - loss: 0.1773 - acc: 0.9442\n",
      "Epoch 72/200\n",
      "3048/3048 [==============================] - 0s 92us/sample - loss: 0.1816 - acc: 0.9452\n",
      "Epoch 73/200\n",
      "3048/3048 [==============================] - 0s 98us/sample - loss: 0.1670 - acc: 0.9459\n",
      "Epoch 74/200\n",
      "3048/3048 [==============================] - 0s 99us/sample - loss: 0.1708 - acc: 0.9449\n",
      "Epoch 75/200\n",
      "3048/3048 [==============================] - 0s 105us/sample - loss: 0.1591 - acc: 0.9521\n",
      "Epoch 76/200\n",
      "3048/3048 [==============================] - 0s 100us/sample - loss: 0.1623 - acc: 0.9478\n",
      "Epoch 77/200\n",
      "3048/3048 [==============================] - 0s 92us/sample - loss: 0.1496 - acc: 0.9501\n",
      "Epoch 78/200\n",
      "3048/3048 [==============================] - 0s 90us/sample - loss: 0.1778 - acc: 0.9416\n",
      "Epoch 79/200\n",
      "3048/3048 [==============================] - 0s 103us/sample - loss: 0.1503 - acc: 0.9528\n",
      "Epoch 80/200\n"
     ]
    },
    {
     "name": "stdout",
     "output_type": "stream",
     "text": [
      "3048/3048 [==============================] - 0s 113us/sample - loss: 0.1465 - acc: 0.9508\n",
      "Epoch 81/200\n",
      "3048/3048 [==============================] - 0s 90us/sample - loss: 0.1350 - acc: 0.9603\n",
      "Epoch 82/200\n",
      "3048/3048 [==============================] - 0s 90us/sample - loss: 0.1284 - acc: 0.9613\n",
      "Epoch 83/200\n",
      "3048/3048 [==============================] - 0s 90us/sample - loss: 0.1234 - acc: 0.9629\n",
      "Epoch 84/200\n",
      "3048/3048 [==============================] - 0s 90us/sample - loss: 0.1290 - acc: 0.9613\n",
      "Epoch 85/200\n",
      "3048/3048 [==============================] - 0s 89us/sample - loss: 0.1267 - acc: 0.9596\n",
      "Epoch 86/200\n",
      "3048/3048 [==============================] - 0s 91us/sample - loss: 0.1352 - acc: 0.9577\n",
      "Epoch 87/200\n",
      "3048/3048 [==============================] - 0s 90us/sample - loss: 0.1180 - acc: 0.9626\n",
      "Epoch 88/200\n",
      "3048/3048 [==============================] - 0s 89us/sample - loss: 0.1129 - acc: 0.9656\n",
      "Epoch 89/200\n",
      "3048/3048 [==============================] - 0s 92us/sample - loss: 0.1176 - acc: 0.9613\n",
      "Epoch 90/200\n",
      "3048/3048 [==============================] - 0s 91us/sample - loss: 0.1048 - acc: 0.9692\n",
      "Epoch 91/200\n",
      "3048/3048 [==============================] - 0s 101us/sample - loss: 0.1078 - acc: 0.9692\n",
      "Epoch 92/200\n",
      "3048/3048 [==============================] - 0s 117us/sample - loss: 0.1149 - acc: 0.9616\n",
      "Epoch 93/200\n",
      "3048/3048 [==============================] - 1s 165us/sample - loss: 0.1091 - acc: 0.9656\n",
      "Epoch 94/200\n",
      "3048/3048 [==============================] - 0s 146us/sample - loss: 0.0942 - acc: 0.9738\n",
      "Epoch 95/200\n",
      "3048/3048 [==============================] - 0s 100us/sample - loss: 0.0874 - acc: 0.9738\n",
      "Epoch 96/200\n",
      "3048/3048 [==============================] - 0s 95us/sample - loss: 0.1167 - acc: 0.9656\n",
      "Epoch 97/200\n",
      "3048/3048 [==============================] - 0s 93us/sample - loss: 0.0874 - acc: 0.9754\n",
      "Epoch 98/200\n",
      "3048/3048 [==============================] - 0s 96us/sample - loss: 0.0904 - acc: 0.9724\n",
      "Epoch 99/200\n",
      "3048/3048 [==============================] - 0s 95us/sample - loss: 0.0804 - acc: 0.9790\n",
      "Epoch 100/200\n",
      "3048/3048 [==============================] - 0s 91us/sample - loss: 0.0745 - acc: 0.9800\n",
      "Epoch 101/200\n",
      "3048/3048 [==============================] - 0s 92us/sample - loss: 0.0862 - acc: 0.9754\n",
      "Epoch 102/200\n",
      "3048/3048 [==============================] - 0s 89us/sample - loss: 0.0949 - acc: 0.9721\n",
      "Epoch 103/200\n",
      "3048/3048 [==============================] - 0s 88us/sample - loss: 0.0781 - acc: 0.9810\n",
      "Epoch 104/200\n",
      "3048/3048 [==============================] - 0s 89us/sample - loss: 0.0864 - acc: 0.9728\n",
      "Epoch 105/200\n",
      "3048/3048 [==============================] - 0s 89us/sample - loss: 0.0722 - acc: 0.9793\n",
      "Epoch 106/200\n",
      "3048/3048 [==============================] - 0s 90us/sample - loss: 0.0745 - acc: 0.9767\n",
      "Epoch 107/200\n",
      "3048/3048 [==============================] - 0s 89us/sample - loss: 0.0817 - acc: 0.9760\n",
      "Epoch 108/200\n",
      "3048/3048 [==============================] - 0s 91us/sample - loss: 0.0814 - acc: 0.9767\n",
      "Epoch 109/200\n",
      "3048/3048 [==============================] - 0s 88us/sample - loss: 0.0638 - acc: 0.9810\n",
      "Epoch 110/200\n",
      "3048/3048 [==============================] - 0s 85us/sample - loss: 0.0748 - acc: 0.9787\n",
      "Epoch 111/200\n",
      "3048/3048 [==============================] - 0s 85us/sample - loss: 0.0525 - acc: 0.9869\n",
      "Epoch 112/200\n",
      "3048/3048 [==============================] - 0s 85us/sample - loss: 0.0822 - acc: 0.9721\n",
      "Epoch 113/200\n",
      "3048/3048 [==============================] - 0s 89us/sample - loss: 0.0731 - acc: 0.9754\n",
      "Epoch 114/200\n",
      "3048/3048 [==============================] - 0s 85us/sample - loss: 0.0528 - acc: 0.9846\n",
      "Epoch 115/200\n",
      "3048/3048 [==============================] - 0s 84us/sample - loss: 0.0713 - acc: 0.9764\n",
      "Epoch 116/200\n",
      "3048/3048 [==============================] - 0s 84us/sample - loss: 0.0610 - acc: 0.9836\n",
      "Epoch 117/200\n",
      "3048/3048 [==============================] - 0s 85us/sample - loss: 0.0582 - acc: 0.9823\n",
      "Epoch 118/200\n",
      "3048/3048 [==============================] - 0s 85us/sample - loss: 0.0475 - acc: 0.9865\n",
      "Epoch 119/200\n",
      "3048/3048 [==============================] - 0s 87us/sample - loss: 0.0807 - acc: 0.9738\n",
      "Epoch 120/200\n",
      "3048/3048 [==============================] - 0s 148us/sample - loss: 0.0676 - acc: 0.9806\n",
      "Epoch 121/200\n",
      "3048/3048 [==============================] - 0s 90us/sample - loss: 0.0420 - acc: 0.9895\n",
      "Epoch 122/200\n",
      "3048/3048 [==============================] - 0s 117us/sample - loss: 0.0397 - acc: 0.9905\n",
      "Epoch 123/200\n",
      "3048/3048 [==============================] - 0s 96us/sample - loss: 0.0418 - acc: 0.9915\n",
      "Epoch 124/200\n",
      "3048/3048 [==============================] - 0s 87us/sample - loss: 0.0442 - acc: 0.9869\n",
      "Epoch 125/200\n",
      "3048/3048 [==============================] - 0s 87us/sample - loss: 0.0399 - acc: 0.9911\n",
      "Epoch 126/200\n",
      "3048/3048 [==============================] - 0s 87us/sample - loss: 0.0381 - acc: 0.9911\n",
      "Epoch 127/200\n",
      "3048/3048 [==============================] - 0s 89us/sample - loss: 0.0516 - acc: 0.9843\n",
      "Epoch 128/200\n",
      "3048/3048 [==============================] - 0s 96us/sample - loss: 0.0480 - acc: 0.9862\n",
      "Epoch 129/200\n",
      "3048/3048 [==============================] - 1s 173us/sample - loss: 0.0599 - acc: 0.9816\n",
      "Epoch 130/200\n",
      "3048/3048 [==============================] - 1s 260us/sample - loss: 0.0756 - acc: 0.9774\n",
      "Epoch 131/200\n",
      "3048/3048 [==============================] - 1s 170us/sample - loss: 0.0455 - acc: 0.9885\n",
      "Epoch 132/200\n",
      "3048/3048 [==============================] - 0s 89us/sample - loss: 0.0318 - acc: 0.9908\n",
      "Epoch 133/200\n",
      "3048/3048 [==============================] - 0s 164us/sample - loss: 0.0303 - acc: 0.9931\n",
      "Epoch 134/200\n",
      "3048/3048 [==============================] - 0s 113us/sample - loss: 0.0269 - acc: 0.9941\n",
      "Epoch 135/200\n",
      "3048/3048 [==============================] - 0s 89us/sample - loss: 0.0350 - acc: 0.9905\n",
      "Epoch 136/200\n",
      "3048/3048 [==============================] - 0s 123us/sample - loss: 0.0314 - acc: 0.9921\n",
      "Epoch 137/200\n",
      "3048/3048 [==============================] - 0s 119us/sample - loss: 0.0305 - acc: 0.9931\n",
      "Epoch 138/200\n",
      "3048/3048 [==============================] - 0s 102us/sample - loss: 0.0333 - acc: 0.9921\n",
      "Epoch 139/200\n",
      "3048/3048 [==============================] - 0s 99us/sample - loss: 0.0627 - acc: 0.9800\n",
      "Epoch 140/200\n",
      "3048/3048 [==============================] - 0s 88us/sample - loss: 0.0716 - acc: 0.9770\n",
      "Epoch 141/200\n",
      "3048/3048 [==============================] - 0s 88us/sample - loss: 0.0595 - acc: 0.9806\n",
      "Epoch 142/200\n",
      "3048/3048 [==============================] - 0s 89us/sample - loss: 0.0497 - acc: 0.9852\n",
      "Epoch 143/200\n",
      "3048/3048 [==============================] - 0s 93us/sample - loss: 0.0313 - acc: 0.9928\n",
      "Epoch 144/200\n",
      "3048/3048 [==============================] - 0s 88us/sample - loss: 0.0238 - acc: 0.9934\n",
      "Epoch 145/200\n",
      "3048/3048 [==============================] - 0s 89us/sample - loss: 0.0239 - acc: 0.9944\n",
      "Epoch 146/200\n",
      "3048/3048 [==============================] - 0s 90us/sample - loss: 0.0208 - acc: 0.9954\n",
      "Epoch 147/200\n",
      "3048/3048 [==============================] - 0s 92us/sample - loss: 0.0298 - acc: 0.9915\n",
      "Epoch 148/200\n",
      "3048/3048 [==============================] - 0s 101us/sample - loss: 0.0165 - acc: 0.9964\n",
      "Epoch 149/200\n",
      "3048/3048 [==============================] - 0s 93us/sample - loss: 0.0152 - acc: 0.9977\n",
      "Epoch 150/200\n",
      "3048/3048 [==============================] - 0s 91us/sample - loss: 0.0166 - acc: 0.9954\n",
      "Epoch 151/200\n",
      "3048/3048 [==============================] - 0s 91us/sample - loss: 0.0197 - acc: 0.9944\n",
      "Epoch 152/200\n",
      "3048/3048 [==============================] - 0s 91us/sample - loss: 0.0293 - acc: 0.9925\n",
      "Epoch 153/200\n",
      "3048/3048 [==============================] - 0s 92us/sample - loss: 0.1045 - acc: 0.9649\n",
      "Epoch 154/200\n",
      "3048/3048 [==============================] - 0s 91us/sample - loss: 0.1176 - acc: 0.9629\n",
      "Epoch 155/200\n",
      "3048/3048 [==============================] - 0s 90us/sample - loss: 0.0273 - acc: 0.9921\n",
      "Epoch 156/200\n",
      "3048/3048 [==============================] - 0s 92us/sample - loss: 0.0180 - acc: 0.9957\n",
      "Epoch 157/200\n",
      "3048/3048 [==============================] - 0s 89us/sample - loss: 0.0145 - acc: 0.9970\n",
      "Epoch 158/200\n",
      "3048/3048 [==============================] - 0s 89us/sample - loss: 0.0121 - acc: 0.9970\n",
      "Epoch 159/200\n"
     ]
    },
    {
     "name": "stdout",
     "output_type": "stream",
     "text": [
      "3048/3048 [==============================] - 0s 90us/sample - loss: 0.0101 - acc: 0.9980\n",
      "Epoch 160/200\n",
      "3048/3048 [==============================] - 0s 91us/sample - loss: 0.0094 - acc: 0.9987\n",
      "Epoch 161/200\n",
      "3048/3048 [==============================] - 0s 88us/sample - loss: 0.0208 - acc: 0.9954\n",
      "Epoch 162/200\n",
      "3048/3048 [==============================] - 0s 88us/sample - loss: 0.0203 - acc: 0.9938\n",
      "Epoch 163/200\n",
      "3048/3048 [==============================] - 0s 112us/sample - loss: 0.0187 - acc: 0.9951\n",
      "Epoch 164/200\n",
      "3048/3048 [==============================] - 1s 226us/sample - loss: 0.0592 - acc: 0.9803\n",
      "Epoch 165/200\n",
      "3048/3048 [==============================] - 0s 90us/sample - loss: 0.0613 - acc: 0.9783\n",
      "Epoch 166/200\n",
      "3048/3048 [==============================] - 0s 153us/sample - loss: 0.0338 - acc: 0.9902\n",
      "Epoch 167/200\n",
      "3048/3048 [==============================] - 1s 265us/sample - loss: 0.0247 - acc: 0.9925\n",
      "Epoch 168/200\n",
      "3048/3048 [==============================] - 0s 92us/sample - loss: 0.0341 - acc: 0.9885\n",
      "Epoch 169/200\n",
      "3048/3048 [==============================] - 0s 95us/sample - loss: 0.0397 - acc: 0.9859\n",
      "Epoch 170/200\n",
      "3048/3048 [==============================] - 0s 107us/sample - loss: 0.0129 - acc: 0.9964\n",
      "Epoch 171/200\n",
      "3048/3048 [==============================] - 1s 169us/sample - loss: 0.0088 - acc: 0.9984\n",
      "Epoch 172/200\n",
      "3048/3048 [==============================] - 0s 108us/sample - loss: 0.0094 - acc: 0.9984\n",
      "Epoch 173/200\n",
      "3048/3048 [==============================] - 0s 139us/sample - loss: 0.0077 - acc: 0.9990\n",
      "Epoch 174/200\n",
      "3048/3048 [==============================] - 0s 91us/sample - loss: 0.0065 - acc: 0.9993\n",
      "Epoch 175/200\n",
      "3048/3048 [==============================] - 0s 94us/sample - loss: 0.0062 - acc: 0.9993\n",
      "Epoch 176/200\n",
      "3048/3048 [==============================] - 0s 100us/sample - loss: 0.0065 - acc: 0.9993\n",
      "Epoch 177/200\n",
      "3048/3048 [==============================] - 0s 88us/sample - loss: 0.0059 - acc: 0.9993\n",
      "Epoch 178/200\n",
      "3048/3048 [==============================] - 0s 111us/sample - loss: 0.0081 - acc: 0.9987\n",
      "Epoch 179/200\n",
      "3048/3048 [==============================] - 0s 98us/sample - loss: 0.0052 - acc: 0.9997\n",
      "Epoch 180/200\n",
      "3048/3048 [==============================] - 0s 88us/sample - loss: 0.0091 - acc: 0.9987\n",
      "Epoch 181/200\n",
      "3048/3048 [==============================] - 0s 95us/sample - loss: 0.1021 - acc: 0.9695\n",
      "Epoch 182/200\n",
      "3048/3048 [==============================] - 0s 107us/sample - loss: 0.0716 - acc: 0.9757\n",
      "Epoch 183/200\n",
      "3048/3048 [==============================] - 0s 90us/sample - loss: 0.0400 - acc: 0.9862\n",
      "Epoch 184/200\n",
      "3048/3048 [==============================] - 0s 91us/sample - loss: 0.0267 - acc: 0.9911\n",
      "Epoch 185/200\n",
      "3048/3048 [==============================] - 0s 110us/sample - loss: 0.0343 - acc: 0.9902\n",
      "Epoch 186/200\n",
      "3048/3048 [==============================] - 0s 95us/sample - loss: 0.0174 - acc: 0.9954\n",
      "Epoch 187/200\n",
      "3048/3048 [==============================] - 0s 105us/sample - loss: 0.0074 - acc: 0.9987\n",
      "Epoch 188/200\n",
      "3048/3048 [==============================] - 0s 103us/sample - loss: 0.0050 - acc: 0.9993\n",
      "Epoch 189/200\n",
      "3048/3048 [==============================] - 0s 92us/sample - loss: 0.0035 - acc: 1.0000\n",
      "Epoch 190/200\n",
      "3048/3048 [==============================] - 0s 89us/sample - loss: 0.0032 - acc: 1.0000\n",
      "Epoch 191/200\n",
      "3048/3048 [==============================] - 0s 89us/sample - loss: 0.0032 - acc: 1.0000\n",
      "Epoch 192/200\n",
      "3048/3048 [==============================] - 0s 90us/sample - loss: 0.0148 - acc: 0.9954\n",
      "Epoch 193/200\n",
      "3048/3048 [==============================] - 0s 90us/sample - loss: 0.0847 - acc: 0.9728\n",
      "Epoch 194/200\n",
      "3048/3048 [==============================] - 0s 90us/sample - loss: 0.0672 - acc: 0.9744\n",
      "Epoch 195/200\n",
      "3048/3048 [==============================] - 0s 92us/sample - loss: 0.0899 - acc: 0.9692\n",
      "Epoch 196/200\n",
      "3048/3048 [==============================] - 0s 89us/sample - loss: 0.0176 - acc: 0.9954\n",
      "Epoch 197/200\n",
      "3048/3048 [==============================] - 0s 95us/sample - loss: 0.0058 - acc: 0.9990\n",
      "Epoch 198/200\n",
      "3048/3048 [==============================] - 0s 86us/sample - loss: 0.0039 - acc: 1.0000\n",
      "Epoch 199/200\n",
      "3048/3048 [==============================] - 0s 87us/sample - loss: 0.0036 - acc: 1.0000\n",
      "Epoch 200/200\n",
      "3048/3048 [==============================] - 0s 89us/sample - loss: 0.0039 - acc: 0.9997\n"
     ]
    },
    {
     "data": {
      "text/plain": [
       "<tensorflow.python.keras.callbacks.History at 0x1a3e1947f0>"
      ]
     },
     "execution_count": 46,
     "metadata": {},
     "output_type": "execute_result"
    }
   ],
   "source": [
    "model3 = keras.Sequential()\n",
    "model3.add(keras.layers.Dense(256, input_shape=(420,), activation=tf.nn.sigmoid))\n",
    "model3.add(keras.layers.Dense(128,activation=tf.nn.sigmoid))\n",
    "model3.add(keras.layers.Dense(64,activation=tf.nn.sigmoid))\n",
    "model3.add(keras.layers.Dense(32,activation=tf.nn.sigmoid))\n",
    "model3.add(keras.layers.Dense(9,activation=tf.nn.softmax))\n",
    "\n",
    "model3.compile(loss='categorical_crossentropy', optimizer='adam', metrics=['accuracy'])\n",
    "\n",
    "\n",
    "model3.fit(xTrain2, yTrainOHE2, epochs=200)\n"
   ]
  },
  {
   "cell_type": "code",
   "execution_count": 47,
   "metadata": {},
   "outputs": [
    {
     "name": "stdout",
     "output_type": "stream",
     "text": [
      "762/762 [==============================] - 0s 126us/sample - loss: 0.3634 - acc: 0.9094\n"
     ]
    },
    {
     "data": {
      "text/plain": [
       "[0.3634368342364554, 0.9094488]"
      ]
     },
     "execution_count": 47,
     "metadata": {},
     "output_type": "execute_result"
    }
   ],
   "source": [
    "model3.evaluate(xTest2,yTestOHE2)"
   ]
  },
  {
   "cell_type": "markdown",
   "metadata": {},
   "source": [
    "With the tuned and topology changes it was achieved a 90.15% accuraccy."
   ]
  },
  {
   "cell_type": "markdown",
   "metadata": {},
   "source": [
    "# Model | Random Forest 2"
   ]
  },
  {
   "cell_type": "markdown",
   "metadata": {},
   "source": [
    "Same as the previous, we adjust model shape and tune parameters to improve the performance."
   ]
  },
  {
   "cell_type": "code",
   "execution_count": 48,
   "metadata": {},
   "outputs": [
    {
     "name": "stdout",
     "output_type": "stream",
     "text": [
      "Fold: 0 score: 0.9116883116883117\n",
      "Fold: 1 score: 0.9114583333333334\n",
      "Fold: 2 score: 0.9164490861618799\n",
      "Fold: 3 score: 0.9240837696335078\n",
      "Fold: 4 score: 0.889763779527559\n",
      "Fold: 5 score: 0.8871391076115486\n",
      "Fold: 6 score: 0.9081364829396326\n",
      "Fold: 7 score: 0.9102902374670184\n",
      "Fold: 8 score: 0.9259259259259259\n",
      "Fold: 9 score: 0.9122340425531915\n"
     ]
    }
   ],
   "source": [
    "folds2 = StratifiedKFold(n_splits=10, shuffle=True, random_state=60)\n",
    "predicted2 = np.zeros((xTest.shape[0],9))\n",
    "measured2= np.zeros((Input.shape[0]))\n",
    "score2 = 0\n",
    "\n",
    "for times, (trn_idx, val_idx) in enumerate(folds2.split(Input2.values,Y_data2['surface'].values)):\n",
    "    model4 = RandomForestClassifier(n_estimators=700, max_depth=20, min_samples_split=5, n_jobs=-1)\n",
    "    model4.fit(Input2.iloc[trn_idx],Y_data2['surface'][trn_idx])\n",
    "    measured2[val_idx] = model4.predict(Input2.iloc[val_idx])\n",
    "    predicted2 += model4.predict_proba(xTest2)/folds2.n_splits\n",
    "    score2 += model4.score(Input2.iloc[val_idx],Y_data2['surface'][val_idx])\n",
    "    print(\"Fold: {} score: {}\".format(times,model4.score(Input2.iloc[val_idx],Y_data2['surface'][val_idx])))\n",
    "\n",
    "    gc.collect()"
   ]
  },
  {
   "cell_type": "code",
   "execution_count": 49,
   "metadata": {},
   "outputs": [
    {
     "name": "stdout",
     "output_type": "stream",
     "text": [
      "Average score 0.9097169076841908\n"
     ]
    }
   ],
   "source": [
    "print('Average score', score2 / folds2.n_splits)"
   ]
  },
  {
   "cell_type": "markdown",
   "metadata": {},
   "source": [
    "The final accuracy with tuned parameters and additional data features the accuracy reached 90.60%"
   ]
  },
  {
   "cell_type": "code",
   "execution_count": 50,
   "metadata": {},
   "outputs": [
    {
     "data": {
      "text/plain": [
       "array([[157,   5,   0,   0,   3,   1,   0,   2,   0],\n",
       "       [ 13, 711,  12,   0,  17,  13,   5,  22,  15],\n",
       "       [  0,   6, 322,   0,   3,   7,   1,   0,   5],\n",
       "       [  0,   0,   0,  14,   0,   0,   0,   0,   0],\n",
       "       [  0,   5,   1,   0, 277,   5,   0,   3,   1],\n",
       "       [  3,  18,   5,   0,   1, 683,   4,   4,  18],\n",
       "       [  2,   6,   0,   1,   0,   6, 281,   8,   0],\n",
       "       [  1,  12,   4,   0,   0,   3,   0, 469,  16],\n",
       "       [ 13,  16,  19,   6,   7,  14,   6,   6, 552]])"
      ]
     },
     "execution_count": 50,
     "metadata": {},
     "output_type": "execute_result"
    }
   ],
   "source": [
    "confusion_matrix(measured2,Y_data2['surface'])"
   ]
  },
  {
   "cell_type": "code",
   "execution_count": 51,
   "metadata": {},
   "outputs": [
    {
     "data": {
      "text/plain": [
       "Text(0.5, 24.0, 'Predicted label')"
      ]
     },
     "execution_count": 51,
     "metadata": {},
     "output_type": "execute_result"
    },
    {
     "data": {
      "image/png": "[encoded data removed]",
      "text/plain": [
       "<Figure size 864x360 with 2 Axes>"
      ]
     },
     "metadata": {},
     "output_type": "display_data"
    }
   ],
   "source": [
    "fig, ax = plt.subplots(1,1,figsize=(12,5))\n",
    "sns.heatmap(pd.DataFrame(confusion_matrix(measured2,Y_data2['surface'])),\n",
    "            ax = ax,\n",
    "            cmap = 'coolwarm',\n",
    "            annot = True,\n",
    "            fmt = '.2f',\n",
    "            linewidths = 0.05)\n",
    "fig.subplots_adjust(top=0.93)\n",
    "fig.suptitle('Confusion matrix, Actual vs Predicted label Correlation Heatmap',\n",
    "              fontsize=14,\n",
    "              fontweight='bold')\n",
    "plt.ylabel('Actual label')\n",
    "plt.xlabel('Predicted label')"
   ]
  },
  {
   "cell_type": "code",
   "execution_count": null,
   "metadata": {},
   "outputs": [],
   "source": []
  }
 ],
 "metadata": {
  "kernelspec": {
   "display_name": "Python 3",
   "language": "python",
   "name": "python3"
  },
  "language_info": {
   "codemirror_mode": {
    "name": "ipython",
    "version": 3
   },
   "file_extension": ".py",
   "mimetype": "text/x-python",
   "name": "python",
   "nbconvert_exporter": "python",
   "pygments_lexer": "ipython3",
   "version": "3.7.3"
  }
 },
 "nbformat": 4,
 "nbformat_minor": 2
}
